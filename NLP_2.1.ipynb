{
 "cells": [
  {
   "cell_type": "markdown",
   "metadata": {},
   "source": [
    "##### steps to follow\n",
    "##### 1. get document from wikipedia api calling.\n",
    "##### 2. make a corpus of words from all the documents :\n",
    "            Step for cleaning the text and tokenization creates the corpus of words\n",
    "            1.Removed all special characters from the text\n",
    "            2.Removed all single characters from the text\n",
    "            3.Converted text to lower case\n",
    "            4.Word tokenization\n",
    "            5.Lemmatization\n",
    "            6.Remove stop words from the text\n",
    "            7.Removed words length less than 3 from text\n",
    "##### 3. make the vector for first article \n",
    "            1. split the text by spltting the sentecnes by full stop.\n",
    "            2. store the sentences in new list.\n",
    "            3. now covnert the words into vector by using tf idf, count vector, hashing vector, word2\n",
    "            4. do this for 10 articles.\n",
    "##### 4. take out the cosine similarity for the same by comparing the test sentences from the word vector made in the third step.\n",
    "##### 5. make data frame for the same"
   ]
  },
  {
   "cell_type": "code",
   "execution_count": 1,
   "metadata": {},
   "outputs": [],
   "source": [
    "import pandas as pd\n",
    "import numpy as np\n",
    "import wikipedia\n",
    "import nltk\n",
    "import re"
   ]
  },
  {
   "cell_type": "markdown",
   "metadata": {},
   "source": [
    "#### Creating corpus of words for n documents"
   ]
  },
  {
   "cell_type": "code",
   "execution_count": 2,
   "metadata": {},
   "outputs": [],
   "source": [
    "a = ['3M Pharmaceuticals', 'AAH Pharmaceuticals', 'ACG Group', 'ALK-Abelló', 'ARIAD Pharmaceuticals', 'AbbVie Inc.', 'Abbott Laboratories', 'Acadia Pharmaceuticals', 'Acorda Therapeutics', 'Actavis', 'Actelion', 'Adcock Ingram', 'Aderis Pharmaceuticals', 'Adolor Corporation', 'Advanced Chemical Industries (ACI)', 'Advanz Pharma', 'Advaxis', 'Ajanta Pharma', 'Alcon', 'Alembic Pharmaceuticals Ltd', 'Alexion Pharmaceuticals', 'Alkaloid (company)', 'Alkermes (company)', 'Allen & Hanburys', 'Allergan', 'Allergan, Inc.', 'Almirall', 'Alnylam Pharmaceuticals', 'Alphapharm', 'Altana', 'Alza', 'Alzheon', 'American Pharmacists Association', 'Amersham plc', 'Amneal Pharmaceuticals', 'Amylin Pharmaceuticals', 'Anacor', 'Anatomy of an Epidemic', 'Antibody Solutions', 'Apotex', 'Aptalis', 'Arbutus Biopharma', 'AryoGen', 'Aspen Pharmacare', 'Assertio Therapeutics', 'Astellas Pharma', 'AstraZeneca', 'Astra AB', 'Aurobindo Pharma', 'Avax Technologies', 'Avella Specialty Pharmacy', 'Aventis Pharma', 'B. Braun Melsungen', 'BCM (Fareva)', 'BTG plc', 'Bad Pharma', 'Bargn Farmaceutici Phils Co', 'Barr Pharmaceuticals', 'Bausch & Lomb', 'Bausch Health', 'Baxalta', 'Baxter International', 'Bayer', 'Beer and breweries by region', 'Benitec Biopharma', 'Beximco Pharmaceuticals Ltd', 'Bial', 'Big Pharma (book)', 'BioCryst Pharmaceuticals', 'BioMarin Pharmaceutical', 'BioMérieux', 'Biocon', 'Biogen', 'Biolex', 'BiondVax', 'Bionovo', 'Biotecnol', 'Biovail', 'Bioverativ', 'Biovest', 'Biovista', 'Bluepharma', 'Boehringer Ingelheim', 'Boehringer Mannheim', 'Bosnalijek', 'Bristol-Myers Squibb', 'Buchler (Company)', 'CSL Behring', 'CSL Limited', 'Cadila Healthcare', 'Cadila Pharmaceuticals', 'Cambridge Antibody Technology', 'Canadian Plasma Resources', 'Cangene', 'Capsugel', 'CareFusion', 'Catabasis Pharmaceuticals', 'Catalent', 'Cathay Drug', 'Celgene', 'Celltech', 'Century Pharmaceuticals', 'Cephalon', 'Ceragenix Pharmaceuticals', 'Chemidex', 'Chiesi Farmaceutici S.p.A.', 'Chiron Corporation', 'Chugai Pharmaceutical Co.', 'CinnaGen', 'Cipla', 'Clinical research associate', 'Clovis Oncology', 'CoCo Therapeutics', 'CoTherix', 'Contract research organization', 'Cubist Pharmaceuticals', 'CureVac', 'Cymbal manufacturers', 'Cynapsus Therapeutics', 'CytRx', 'Dabur', 'Daiichi Sankyo', 'Dawakhana Shifaul Amraz', 'Debiopharm', 'Dentsply Sirona', 'Deurali-Janta Pharmaceuticals', 'Diabetology Ltd', 'Diffusion Pharmaceuticals', \"Dr. Reddy's Laboratories\", 'Drug rep', 'Ego Pharmaceuticals', 'Eisai (company)', 'Elder Pharmaceuticals', 'Eli Lilly and Company', 'Emcure Pharmaceuticals', 'Emergent BioSolutions', 'Endo International plc', 'Eskayef Pharmaceuticals Ltd.', 'Esteve', 'Fabre-Kramer Pharmaceuticals', 'Fareva', 'Faron Pharmaceuticals', 'Ferring Pharmaceuticals', 'Food and Drug Administration', 'Forest Laboratories', 'Fortress Biotech', 'Fresenius', 'G.D. Searle, LLC', 'G.F. Harvey Company', 'GPC Biotech', 'Galderma', 'Gedeon Richter (company)', 'General Pharma', 'Genmab', 'Gilead Sciences', 'Glatt group', 'GlaxoSmithKline', 'Glenmark Pharmaceuticals', 'Grifols', 'Grindeks', 'Grünenthal', 'Help Remedies', 'Hemispherx Biopharma', 'Hetero Drugs', 'Hikma Pharmaceuticals', 'Hoechst AG', 'Hoffmann–La Roche', 'Horizon Therapeutics', 'Hospira', 'Hovione', 'Huadong Medicine', 'Human Genome Sciences', 'ITH Pharma', 'Incepta Pharmaceuticals', 'Incyte', 'Institute for OneWorld Health', 'Intas Biopharmaceuticals', 'Intellia Therapeutics', 'Ionis Pharmaceuticals', 'Ipca Laboratories', 'Ipsen', 'JN-International Medical Corporation', 'Janssen Pharmaceutica', 'Jazz Pharmaceuticals', 'Jenapharm', 'Johnson & Johnson', 'Julphar', 'Juno Therapeutics', 'Kimia Farma', 'King Pharmaceuticals', 'Kite Pharma', 'Knoll Pharmaceuticals', 'Kyowa Hakko Kirin', 'Laboratoires Pierre Fabre', 'Laboratoires Servier', 'Leo Pharma', 'List of CIGS companies', 'List of Champagne houses', 'List of EDA companies', 'List of advertising technology companies', 'List of aerial lift manufacturers', 'List of aircraft manufacturers', 'List of airline holding companies', 'List of animation studios', 'List of anime companies', 'List of asset management firms', 'List of astronomical instrument makers', 'List of automation integrator companies', 'List of automobile manufacturers', 'List of bean-to-bar chocolate manufacturers', 'List of bicycle brands and manufacturing companies', 'List of book sales clubs', 'List of bookstore chains', 'List of bus operating companies', 'List of cable television companies', 'List of casinos', 'List of casual dining restaurant chains', 'List of chained-brand hotels', 'List of charter airlines', 'List of cheesemakers', 'List of coffee companies', 'List of coffeehouse chains', 'List of computer hardware manufacturers', 'List of computer system manufacturers', 'List of concentrating solar thermal power companies', 'List of construction equipment rental companies', 'List of convenience stores', 'List of cruise lines', 'List of defunct airlines', 'List of department stores by country', 'List of disc golf brands and manufacturers', 'List of drugs', 'List of dump truck manufacturers', 'List of electric-vehicle-battery manufacturers', 'List of electronics brands', 'List of enterprise search vendors', 'List of fast food restaurant chains', 'List of ferry operators', 'List of film production companies', 'List of fitness wear brands', 'List of flash memory controller manufacturers', 'List of food companies', 'List of freight ship companies', 'List of game manufacturers', 'List of golf equipment manufacturers', 'List of health club chains', 'List of horn makers', 'List of hypermarkets', 'List of ice cream parlor chains', 'List of independent bookstores', 'List of international auto shipping companies', 'List of international banking institutions', 'List of investment banks', 'List of largest biotechnology & pharmaceutical companies', 'List of largest biotechnology and pharmaceutical companies', 'List of largest chemical producers', 'List of largest law firms by profits per partner', 'List of largest oil and gas companies by revenue', 'List of largest pharmaceutical settlements', 'List of lingerie brands', 'List of locomotive builders', 'List of low-cost airlines', 'List of management consulting firms', 'List of marketing research firms', 'List of microphone manufacturers', 'List of modern armament manufacturers', 'List of motorcycle manufacturers', 'List of mountaineering equipment brands', 'List of off-label promotion pharmaceutical settlements', 'List of oil exploration and production companies', 'List of oilfield service companies', 'List of passenger airlines', 'List of passenger ship companies', 'List of pharmaceutical manufacturers in the United Kingdom', 'List of pharmacies', 'List of photovoltaics companies', 'List of pizza chains', 'List of pornography companies', 'List of private equity firms', 'List of public utilities', \"List of publishers of children's books\", 'List of radio-controlled model aircraft kit manufacturers', 'List of railway companies', 'List of regional airlines', 'List of restaurant chains', \"List of retailers' cooperatives\", 'List of revolving restaurants', 'List of rolling stock manufacturers', 'List of scooter manufacturers', 'List of semiconductor IP core vendors', 'List of ship companies', 'List of silicon producers', 'List of skateboarding brands', 'List of ski brands', 'List of soft drink producers', 'List of solid-state drive manufacturers', 'List of sporting goods manufacturers', 'List of steel producers', 'List of stock exchanges', 'List of stuffed toy manufacturers', 'List of supermarket chains', 'List of superstores', 'List of swimwear brands', 'List of tea companies', 'List of telephone operating companies', 'List of television networks by country', 'List of the largest information technology companies', 'List of touch-solution manufacturers', 'List of traction motor manufacturers', 'List of tractor manufacturers', 'List of tram builders', 'List of venture capital firms', 'List of vineyards and wineries', 'List of wind turbine manufacturers', 'Lists of airlines', 'Lists of banks', 'Lists of bookstores', 'Lists of companies', 'Lists of record labels', 'Lists of video game companies', 'Locus Biosciences', 'Lundbeck', 'Lupin Limited', 'Mallinckrodt', 'MannKind Corporation', 'Marcia Angell', 'Maxygen', 'McGuff Companies', 'McNeil Consumer Healthcare', 'MedImmune', 'Meda AB', 'Medac', 'Medarex', 'Medinfar', 'Melior Discovery', 'Menarini', 'Merck & Co.', 'Merck Group', 'Mitsubishi Tanabe Pharma', 'Molecular Partners', 'Mustang Bio', 'Mylan', 'NovaBay Pharmaceuticals', 'Novartis', 'Novo Nordisk', 'Noxxon Pharma', 'Nycomed', 'Octapharma', 'Onyx Pharmaceuticals', 'Orexo', 'Orion Corporation', 'Ortho-McNeil Pharmaceutical', 'Ortho Pharmaceutical', 'Otsuka Pharmaceutical', 'Oxford BioMedica', 'PATH (global health organization)', 'PainCeptor Pharma', 'Panacea Biotec', 'Par Pharmaceutical', 'Perrigo', 'Perseid Therapeutics', 'Pfizer', 'Pharma Medica', 'Pharma Nord', 'Pharmaceutical Product Development', 'Pharmaceutical companies', 'Pharmaceutical industry', 'Pharmaceutical industry in Bangladesh', 'Pharmaceutical industry in China', 'Pharmaceutical industry in India', 'Pharmaceutical industry in Pakistan', 'Pharmaceutical industry in Russia', 'Pharmaceutical industry in Switzerland', \"Pharmaceutical industry in the People's Republic of China\", 'Pharmaceutical industry in the United Kingdom', 'Pharmacia', 'Pharmacosmos', 'Pharmascience', 'Piramal Group', 'Plexxikon', 'Pliva', 'ProMetic Life Sciences', 'Procter & Gamble', 'Proteolix', 'Purdue Pharma', 'Ranbaxy Laboratories', 'Reckitt Benckiser', 'Regeneron Pharmaceuticals', 'Renovo plc', 'Repligen', 'Rhône-Poulenc', 'Rubicon Research', 'SIGA Technologies', 'STADA Arzneimittel', 'Saidal', 'Salix Pharmaceuticals', 'Sangamo Therapeutics', 'Sanofi', 'Sanofi Pasteur', 'Schering-Plough', 'Semiconductor equipment sales leaders by year', 'Serum Institute of India', 'Shionogi', 'Shire (pharmaceutical company)', 'Side Effects (Bass book)', 'Sigma Healthcare', 'Sinopharm Group', 'Smith, Kline & French', 'Solvay S.A.', 'Sphere Fluidics', 'Square Pharmaceuticals', 'State Pharmaceuticals Corporation of Sri Lanka', 'Stiefel Laboratories', 'Strides Arcolab', 'Stryker Corporation', 'Sucampo Pharmaceuticals', 'Sumitomo Dainippon Pharma', 'Sun Pharmaceutical', 'Sunovion', 'Sutro Biopharma', 'Swedish Orphan Biovitrum', 'Takeda Pharmaceutical Company', 'Taro Pharmaceuticals', 'Tasly', 'Teva Active Pharmaceutical Ingredients', 'Teva Pharmaceuticals', 'The Billion-Dollar Molecule', 'Torrent Pharmaceuticals', 'Turing Pharmaceuticals', 'UCB (company)', 'USV Private Limited', 'Unichem Laboratories', 'United States', 'Upjohn', 'Veloxis Pharmaceuticals', 'Vertex Pharmaceuticals', 'Vion Pharmaceuticals, Inc.', 'ViroMed', 'Warner-Lambert', 'Wockhardt', 'WuXi AppTec', 'Wyeth', 'Zandu Realty', 'Zentiva']"
   ]
  },
  {
   "cell_type": "markdown",
   "metadata": {},
   "source": [
    "##### Creating sentences for particluar documents"
   ]
  },
  {
   "cell_type": "code",
   "execution_count": 3,
   "metadata": {},
   "outputs": [],
   "source": [
    "#l = wikipedia.page(\"List of pharmaceutical companies\")\n",
    "#a = l.links"
   ]
  },
  {
   "cell_type": "code",
   "execution_count": 4,
   "metadata": {},
   "outputs": [],
   "source": [
    "new_list = []\n",
    "list_1 = []\n",
    "for i in range(0, len(a)):\n",
    "    l = wikipedia.page(a[i])\n",
    "    text = l.content\n",
    "    new_list.append(text)"
   ]
  },
  {
   "cell_type": "markdown",
   "metadata": {},
   "source": [
    "##### Tokenizing the sentences in the document"
   ]
  },
  {
   "cell_type": "code",
   "execution_count": 5,
   "metadata": {},
   "outputs": [],
   "source": [
    "from nltk.tokenize import sent_tokenize\n",
    "list_1 = []\n",
    "for i in range(len(new_list)):\n",
    "    list_1.append(sent_tokenize(new_list[i]))"
   ]
  },
  {
   "cell_type": "code",
   "execution_count": 6,
   "metadata": {},
   "outputs": [
    {
     "data": {
      "text/plain": [
       "['The 3M Company is an American multinational conglomerate corporation operating in the fields of industry, worker safety, US health care, and consumer goods.',\n",
       " 'The company produces over 60,000 products under several brands, including adhesives, abrasives, laminates, passive fire protection, personal protective equipment, window films, paint protection films, dental and orthodontic products, electrical and electronic connecting and insulating materials, medical products, car-care products, electronic circuits, healthcare software and optical films.',\n",
       " 'It is based in Maplewood, a suburb of Saint Paul, Minnesota.3M made $32.8 billion in total sales in 2018, and ranked number 95 in the Fortune 500 list of the largest United States corporations by total revenue.',\n",
       " 'As of 2018, the company had approximately 93,500 employees, and had operations in more than 70 countries.In 2016, a complaint was filed against 3M for knowingly selling defective earplugs issued to military personnel deployed to Iraq and Afghanistan.',\n",
       " 'These earplugs may have caused permanent hearing damage.',\n",
       " '3M paid a $9.1 million settlement to the U.S. government.',\n",
       " '== History ==\\nFive businessmen founded the Minnesota Mining and Manufacturing Company as a mining venture in Two Harbors, Minnesota, making their first sale on June 13, 1902.',\n",
       " \"The goal was to mine corundum, but this failed because the mine's mineral holdings were anorthosite, which had no commercial value.\",\n",
       " 'Co-founder John Dwan solicited funds in exchange for stock and Edgar Ober and Lucius Ordway took over the company in 1905.',\n",
       " 'The company moved to Duluth and began researching and producing sandpaper products.',\n",
       " 'William L. McKnight, later a key executive, joined the company in 1907, and A. G. Bush joined in 1909.',\n",
       " '3M finally became financially stable in 1916 and was able to pay dividends.The company moved to St. Paul in 1910, where it remained for 52 years before outgrowing the campus and moving to its current headquarters at 3M Center in Maplewood, Minnesota in 1962.',\n",
       " '=== Expansion and modern history ===\\nIn 1947, 3M began producing perfluorooctanoic acid (PFOA) by electrochemical fluorination.In 1951, DuPont purchased PFOA from then-Minnesota Mining and Manufacturing Company for use in the manufacturing of teflon, a product that brought DuPont a billion-dollar-a-year profit by the 1990s.',\n",
       " 'DuPont referred to PFOA as C8.',\n",
       " 'The original formula for Scotchgard, a water repellent applied to fabrics, was discovered accidentally in 1952 by 3M chemists Patsy Sherman and Samuel Smith.',\n",
       " 'Sales began in 1956, and in 1973 the two chemists received a patent for the formula.In the late 1950s, 3M produced the first asthma inhaler, but the company did not enter the pharmaceutical industry until the mid-1960s with the acquisition of Riker Laboratories, moving it from California to Minnesota.',\n",
       " '3M retained the Riker Laboratories name for the subsidiary until at least 1985.',\n",
       " 'In the mid-1990s, 3M Pharmaceuticals, as the division came to be called, produced the first CFC-free asthma inhaler in response to adoption of the Montreal Protocol by the United States.',\n",
       " 'In the 1980s and 1990s, the company spent fifteen years developing a topical cream delivery technology which led in 1997 to health authority approval and marketing of a symptomatic treatment for genital warts, Aldara.',\n",
       " '3M divested its pharmaceutical unit through three deals in 2006, netting more than US$2 billion.',\n",
       " \"At the time, 3M Pharmaceuticals comprised about 20% of 3M's health care business and employed just over a thousand people.\",\n",
       " 'By the 1970s, 3M developed a theatrical blood formula based on red colorfast microbeads suspended in a carrier liquid.',\n",
       " 'This stage blood was sold as Nextel Simulated Blood, and was used during the production of the 1978 film Dawn of the Dead.',\n",
       " 'It has since been discontinued.3M Mincom was involved in some of the first digital audio recordings of the late 1970s to see commercial release when a prototype machine was brought to the Sound 80 studios in Minneapolis.',\n",
       " 'In 1979 3M introduced a digital audio recording system called \"3M Digital Audio Mastering System\".3M launched \"Press \\'n Peel\" in stores in four cities in 1977, but results were disappointing.',\n",
       " 'A year later 3M instead issued free samples directly to consumers in Boise, Idaho, with 95% of those who tried them indicating they would buy the product.',\n",
       " 'The product was sold as \"Post-its\" in 1979 when the rollout introduction began, and was sold across the United States from April 6, 1980.',\n",
       " 'The following year they were launched in Canada and Europe.On its 100th anniversary, 3M changed its legal name to \"3M Company\" on April 8, 2002.',\n",
       " \"On September 8, 2008, 3M announced an agreement to acquire Meguiar's, a car-care products company that was family-owned for over a century.\",\n",
       " 'In August 2010, 3M acquired Cogent Systems for $943 million and on October 13, 2010, 3M completed acquisition of Arizant Inc.',\n",
       " 'In December 2011, 3M completed the acquisition of the Winterthur Technology Group, a bonded abrasives company.',\n",
       " 'As of 2012, 3M was one of the 30 companies included in the Dow Jones Industrial Average, added on August 9, 1976, and was 97 on the 2011 Fortune 500 list.',\n",
       " 'On January 3, 2012, it was announced that the Office and Consumer Products Division of Avery Dennison was being bought by 3M for $550 million.',\n",
       " 'The transaction was canceled by 3M in September 2012 amid antitrust concerns.In May 2013, 3M sold Scientific Anglers and Ross Reels to Orvis.',\n",
       " 'Ross Reels had been acquired by 3M in 2010.',\n",
       " \"In March 2017, 3M purchased Johnson Control International Plc's safety gear business, Scott Safety, for $2 billion.In 2017, 3M had net sales for the year of $31.657 billion, up from $30.109 billion the year before.\",\n",
       " 'In 2018, it was reported that the company would pay $850 million to end the Minnesota water pollution case concerning perfluorochemicals.On May 25, 2018, Michael F. Roman was appointed CEO by the board of directors.',\n",
       " 'There are a few international subsidiaries such as 3M India, 3M Japan, & 3M Canada.',\n",
       " 'On December 19, 2018, 3M announced it had entered into a definitive agreement to acquire the technology business of M*Modal, for a total enterprise value of $1.0 billion.In October 2019, 3M purchased Acelity and its KCI subsidiaries for $6.7 billion, including assumption of debt and other adjustments.',\n",
       " '== Products and patents ==\\n3M produces approximately 60,000 products, as of 2019, and has four business groups focused on safety and industrial, transportation and electronics, health care, and consumer products.',\n",
       " '3M obtained its first patent in 1924, and acquires approximately 3,000 new patents annually.',\n",
       " 'The company surpassed the 100,000-patent threshold in 2014.',\n",
       " \"== Environmental record ==\\n\\n3M's Pollution Prevention Pays (3P) program was established in 1975.\",\n",
       " 'The program initially focused on pollution reduction at the plant level and was expanded to promote recycling and reduce waste across all divisions in 1989.',\n",
       " \"By the early 1990s, approximately 2,500 3P projects decreased the company's total global pollutant generation by 50 percent and saved 3M $500–600 million by eliminating the production of waste requiring subsequent treatment.In 1983, the Oakdale Dump in Oakdale, Minnesota, was listed as an EPA Superfund site after significant groundwater and soil contamination by VOCs and heavy metals was uncovered.\",\n",
       " 'The Oakdale Dump was a 3M dumping site utilized through the 1940s and 1950s.',\n",
       " 'During the 1990s and 2000s, 3M reduced releases of toxic pollutants by 99 percent and greenhouse gas emissions by 72 percent.',\n",
       " \"The company earned the United States Environmental Protection Agency's Energy Star Award each year the honor was presented, as of 2012.In 1999, the U.S. Environmental Protection Agency began investigating perfluorinated chemicals after receiving data on the global distribution and toxicity of perfluorooctanesulfonic acid (PFOS).\",\n",
       " 'These materials are part of a broad group of perfluoroalkyl and polyfluoroalkyl substances often referred to as PFAS, each of which has different chemical properties.',\n",
       " '3M, the former primary producer of PFOS from the U.S., announced the phase-out of PFOS, perfluorooctanoic acid, and PFOS-related product production in May 2000.',\n",
       " 'Perfluorinated \\ncompounds produced by 3M have been used in non-stick cookware, stain-resistant fabrics, and other products.',\n",
       " 'The Cottage Grove facility manufactured PFAS from the 1940s to 2002.',\n",
       " 'In response to PFAS contamination of the Mississippi River and surrounding area, 3M stated the area will be \"cleaned through a combination of groundwater pump-out wells and soil sediment excavation\".',\n",
       " 'The restoration plan was based on an analysis of the company property and surrounding lands.',\n",
       " \"The on-site water treatment facility that handled the plant's post-production water was not capable of removing PFAS, which were released into the nearby Mississippi River.\",\n",
       " \"The clean-up cost estimate, which included a granular activated carbon system to remove PFAS from the ground water was $50 to $56 million, funded from a $147 million environmental reserve set aside in 2006.In 2008, 3M created the Renewable Energy Division within 3M's Industrial and Transportation Business to focus on Energy Generation and Energy Management.In late 2010, the state of Minnesota sued 3M for $5 billion in punitive damages, claiming they released PFCs—classified a toxic chemical by the EPA—into local waterways.\",\n",
       " 'A settlement for $850 million was reached in February 2018, although in 2019, 3M, along with the Chemours Company and DuPont, appeared before lawmakers to deny responsibility, with company Senior VP of Corporate Affairs Denise Rutherford arguing that the chemicals pose no human health threats at current levels and have no victims.',\n",
       " '== Earplug controversy ==\\nThe Combat Arms Earplugs, Version 2 (CAE v2), was developed by Aearo Technologies for U.S. military and civilian use.',\n",
       " 'The CAE v2 was a double ended earplug that 3M claimed would offer users different levels of protection.',\n",
       " 'Between 2003 and 2015, these earplugs were standard issue to members of the U.S. military.',\n",
       " '3M acquired Aearo Technologies in 2008.In May 2016, Moldex-Metric, Inc., a 3M competitor, filed a whistleblower complaint against 3M under the False Claims Act.',\n",
       " 'Moldex-Metric claimed that 3M made false claims to the U.S. government about the safety of its earplugs, and that it knew the earplugs had an inherently defective design.',\n",
       " 'In 2018, 3M agreed to pay $9.1 million to the U.S government to resolve the allegations, without admitting liability.Since 2018, more than 140,000 former users of the earplugs—primarily U.S. military veterans—have filed suit against 3M claiming they suffer from hearing loss, tinnitus, and other damage as a consequence of the defective design.Internal emails showed that 3M officials boasted about charging $7.63 per piece for the earplugs which cost 85 cents to produce.',\n",
       " \"The company's official response indicated that the cost to the government includes R&D costs.\",\n",
       " '== N95 respirators and the COVID-19 pandemic ==\\nThe N95 respirator mask was developed by 3M and approved in 1972.',\n",
       " 'Being able to filter viral particulates, its use was recommended during the COVID-19 pandemic but supply soon became short.',\n",
       " \"Much of the company's supply had already been sold prior to the outbreak.The shortages led to the US government asking 3M to stop exporting US-made N95 respirator masks to Canada and to Latin American countries, and President Donald Trump invoked the Defense Production Act to require 3M to prioritize orders from the federal government.\",\n",
       " 'The dispute was resolved when 3M agreed to import more respirators, mostly from its factories in China.3M later struck a $70MCAD deal with the federal government of Canada and the Ontario provincial government to produce N95 masks at their plant in Brockville, Ontario.',\n",
       " \"== Operating facilities ==\\n\\n3M's general offices, corporate research laboratories, and some division laboratories in the US are in St. Paul, Minnesota.\",\n",
       " 'In the United States, 3M operates 80 manufacturing facilities in 29 states, and 125 manufacturing and converting facilities in 37 countries outside the US (in 2017).In March 2016, 3M completed a 400,000-square-foot (37,000 m2) research-and-development building that cost $150 million on its Maplewood campus.',\n",
       " 'Seven hundred scientists from various divisions occupy the building.',\n",
       " 'They were previously scattered across the campus.',\n",
       " '3M hopes concentrating its research and development in this manner will improve collaboration.',\n",
       " '3M received $9.6 million in local tax increment financing and relief from state sales taxes in order to assist with development of the building.Selected factory detail information:\\n\\nCynthiana, Kentucky, US factory producing Post-it Notes (672 SKU) and Scotch Tape (147 SKU).',\n",
       " 'It has 539 employees and was established in 1969.',\n",
       " 'Newton Aycliffe, County Durham, UK factory producing respirators for workers safety, using laser technology.',\n",
       " 'It has 370 employees and recently there was an investment of £4.5 million ($7 million).',\n",
       " \"In Minnesota, 3M's Hutchinson facility produces products for more than half of the company's 23 divisions, as of 2019.\",\n",
       " 'The \"super hub\" has manufactured adhesive bandages for Nexcare, furnace filters, and Scotch Tape, among other products.',\n",
       " 'The Cottage Grove plant is one of three operated by 3M for the production of pad conditioners, as of 2011.',\n",
       " '3M has operated a manufacturing plant in Columbia, Missouri since 1970.',\n",
       " 'The plant has been used for the production of products including electronic components, solar and touchscreen films, and stethoscopes.',\n",
       " 'The facility received a $20 million expansion in 2012 and has approximately 400 employees.',\n",
       " '3M opened the Brookings, South Dakota plant in 1971, and announced a $70 million expansion in 2014.',\n",
       " \"The facility manufactures more than 1,700 health care products and employs 1,100 people, as of 2018, making the plant 3M's largest focused on health care.\",\n",
       " 'Mask production at the site increased during the 2009 swine flu pandemic, 2002–2004 SARS outbreak, 2018 California wildfires, 2019–20 Australian bushfire season, and COVID-19 pandemic.',\n",
       " \"3M's Springfield, Missouri plant opened in 1967 and makes industrial adhesives and tapes for aerospace manufacturers.\",\n",
       " 'In 2017, 3M had approximately 330 employees in the metropolitan area, and announced a $40 million expansion project to upgrade the facility and redevelop another building.',\n",
       " 'In Iowa, the Ames plant makes sandpaper products and received funding from the Iowa Economic Development Authority (IEDA) for expansions in 2013 and 2018.',\n",
       " \"The Knoxville plant is among 3M's largest and produces approximately 12,000 different products, including adhesives and tapes.\",\n",
       " \"3M's Southeast Asian operations are based in Singapore, where the company has invested $1 billion over 50 years.\",\n",
       " '3M has a facility in Tuas, a manufacturing plant and Smart Urban Solutions lab in Woodlands, and a customer technical center in Yishun.',\n",
       " '3M expanded a factory in Woodlands in 2011, announced a major expansion of the Tuas plant in 2016, and opened new headquarters in Singapore featuring a Customer Technical Centre in 2018.',\n",
       " \"The company has operated in China since 1984, and was Shanghai's first Wholly Foreign-Owned Enterprise.\",\n",
       " \"3M's seventh plant, and the first dedicated to health care product production, opened in Shanghai in 2007.\",\n",
       " 'By October 2007, the company had opened an eighth manufacturing plant and technology center in Guangzhou.',\n",
       " '3M broke ground on its ninth manufacturing facility, for the production of photovoltaics and other renewable energy products, in Hefei in 2011.',\n",
       " '3M announced plans to construct a technology innovation center in Chengdu in 2015, and opened a fifth design center in Shanghai in 2019.',\n",
       " '== Leadership ==\\nBoard chairs have included: William L. McKnight (1949–1966), Bert S. Cross (1966–1970), Harry Heltzer (1970–1975), Raymond H. Herzog (1975–1980), Lewis W. Lehr (1980–1986), Allen F. Jacobson (1986–1991), Livio DeSimone (1991–2001), James McNerney (2001–2005), George W. Buckley (2005–2012), and Inge Thulin (2012–2018).',\n",
       " \"Thulin continued to serve as executive chairman until current chair Michael F. Roman was appointed in 2019.3M's CEOs have included: Cross (1966–1970), Heltzer (1970–1975), Herzog (1975–1979), Lehr (1979–1986), Jacobson (1986–1991), DeSimone (1991–2001), McNerney (2001–2005), Robert S. Morrison (2005, interim), Buckley (2005–2012), Thulin (2012–2018), and Roman (2018–present).3M's presidents have included: Edgar B. Ober (1905–1929), McKnight (1929–1949), Richard P. Carlton (1949–1953), Herbert P. Buetow (1953–1963), Cross (1963–1966), Heltzer (1966–1970), and Herzog (1970–1975).\",\n",
       " 'In the late 1970s, the position was separated into roles for U.S. and international operations.',\n",
       " 'The position overseeing domestic operations was first held by Lehr, followed by John Pitblado from 1979 to 1981, then Jacobson from 1984 to 1991.',\n",
       " 'James A. Thwaits led international operations starting in 1979.',\n",
       " 'Buckley and Thulin were president during 2005–2012, and 2012–2018, respectively.',\n",
       " '== See also ==\\nOakdale Dump\\n\\n\\n=== Further reading ===\\nV. Huck, Brand of the tartan: the 3M story, Appleton-Century-Crofts, 1955.',\n",
       " 'Early history of 3M and challenges, includes employee profiles.',\n",
       " 'C. Rimington, From Minnesota mining and manufacturing to 3M Australia Pty Ltd (3M Australia: the Story of an Innovative Company), Sid Harta Publishers, 2013.',\n",
       " 'Recollections from 3M Australia employees in context of broader organisational history.',\n",
       " \"== References ==\\n\\n\\n== External links ==\\n3M Worldwide\\nBusiness data for 3M: \\nGoogle Local's satellite image of 3M head office campus\\n3M Global Company Profile from Transnationale.org\\nMinnesota Department of Health on the Oakdale Dump Superfund Site\\nThe historical records of the 3M Company are available for research use at the Minnesota Historical Society\"]"
      ]
     },
     "execution_count": 6,
     "metadata": {},
     "output_type": "execute_result"
    }
   ],
   "source": [
    "list_1[0]"
   ]
  },
  {
   "cell_type": "markdown",
   "metadata": {},
   "source": [
    "##### Cleaning text by removing extra characters"
   ]
  },
  {
   "cell_type": "code",
   "execution_count": 7,
   "metadata": {},
   "outputs": [
    {
     "name": "stdout",
     "output_type": "stream",
     "text": [
      "--- cleaning ---\n"
     ]
    }
   ],
   "source": [
    "print(\"--- cleaning ---\")\n",
    "final_list = []\n",
    "for i in range(0,len(list_1)):\n",
    "    txt = []\n",
    "    for j in range(0,len(list_1[i])):\n",
    "        txt.append(re.sub(r'[^\\w\\s]', '', str(list_1[i][j]).lower().strip()))\n",
    "    final_list.append(txt)\n",
    " #for i in range(0,len(final_list)):\n",
    " #   final_list[i] = final_list[i].replace(\"\\n\",\"\")"
   ]
  },
  {
   "cell_type": "code",
   "execution_count": 8,
   "metadata": {},
   "outputs": [
    {
     "data": {
      "text/plain": [
       "['the 3m company is an american multinational conglomerate corporation operating in the fields of industry worker safety us health care and consumer goods',\n",
       " 'the company produces over 60000 products under several brands including adhesives abrasives laminates passive fire protection personal protective equipment window films paint protection films dental and orthodontic products electrical and electronic connecting and insulating materials medical products carcare products electronic circuits healthcare software and optical films',\n",
       " 'it is based in maplewood a suburb of saint paul minnesota3m made 328 billion in total sales in 2018 and ranked number 95 in the fortune 500 list of the largest united states corporations by total revenue',\n",
       " 'as of 2018 the company had approximately 93500 employees and had operations in more than 70 countriesin 2016 a complaint was filed against 3m for knowingly selling defective earplugs issued to military personnel deployed to iraq and afghanistan',\n",
       " 'these earplugs may have caused permanent hearing damage',\n",
       " '3m paid a 91 million settlement to the us government',\n",
       " ' history \\nfive businessmen founded the minnesota mining and manufacturing company as a mining venture in two harbors minnesota making their first sale on june 13 1902',\n",
       " 'the goal was to mine corundum but this failed because the mines mineral holdings were anorthosite which had no commercial value',\n",
       " 'cofounder john dwan solicited funds in exchange for stock and edgar ober and lucius ordway took over the company in 1905',\n",
       " 'the company moved to duluth and began researching and producing sandpaper products',\n",
       " 'william l mcknight later a key executive joined the company in 1907 and a g bush joined in 1909',\n",
       " '3m finally became financially stable in 1916 and was able to pay dividendsthe company moved to st paul in 1910 where it remained for 52 years before outgrowing the campus and moving to its current headquarters at 3m center in maplewood minnesota in 1962',\n",
       " ' expansion and modern history \\nin 1947 3m began producing perfluorooctanoic acid pfoa by electrochemical fluorinationin 1951 dupont purchased pfoa from thenminnesota mining and manufacturing company for use in the manufacturing of teflon a product that brought dupont a billiondollarayear profit by the 1990s',\n",
       " 'dupont referred to pfoa as c8',\n",
       " 'the original formula for scotchgard a water repellent applied to fabrics was discovered accidentally in 1952 by 3m chemists patsy sherman and samuel smith',\n",
       " 'sales began in 1956 and in 1973 the two chemists received a patent for the formulain the late 1950s 3m produced the first asthma inhaler but the company did not enter the pharmaceutical industry until the mid1960s with the acquisition of riker laboratories moving it from california to minnesota',\n",
       " '3m retained the riker laboratories name for the subsidiary until at least 1985',\n",
       " 'in the mid1990s 3m pharmaceuticals as the division came to be called produced the first cfcfree asthma inhaler in response to adoption of the montreal protocol by the united states',\n",
       " 'in the 1980s and 1990s the company spent fifteen years developing a topical cream delivery technology which led in 1997 to health authority approval and marketing of a symptomatic treatment for genital warts aldara',\n",
       " '3m divested its pharmaceutical unit through three deals in 2006 netting more than us2 billion',\n",
       " 'at the time 3m pharmaceuticals comprised about 20 of 3ms health care business and employed just over a thousand people',\n",
       " 'by the 1970s 3m developed a theatrical blood formula based on red colorfast microbeads suspended in a carrier liquid',\n",
       " 'this stage blood was sold as nextel simulated blood and was used during the production of the 1978 film dawn of the dead',\n",
       " 'it has since been discontinued3m mincom was involved in some of the first digital audio recordings of the late 1970s to see commercial release when a prototype machine was brought to the sound 80 studios in minneapolis',\n",
       " 'in 1979 3m introduced a digital audio recording system called 3m digital audio mastering system3m launched press n peel in stores in four cities in 1977 but results were disappointing',\n",
       " 'a year later 3m instead issued free samples directly to consumers in boise idaho with 95 of those who tried them indicating they would buy the product',\n",
       " 'the product was sold as postits in 1979 when the rollout introduction began and was sold across the united states from april 6 1980',\n",
       " 'the following year they were launched in canada and europeon its 100th anniversary 3m changed its legal name to 3m company on april 8 2002',\n",
       " 'on september 8 2008 3m announced an agreement to acquire meguiars a carcare products company that was familyowned for over a century',\n",
       " 'in august 2010 3m acquired cogent systems for 943 million and on october 13 2010 3m completed acquisition of arizant inc',\n",
       " 'in december 2011 3m completed the acquisition of the winterthur technology group a bonded abrasives company',\n",
       " 'as of 2012 3m was one of the 30 companies included in the dow jones industrial average added on august 9 1976 and was 97 on the 2011 fortune 500 list',\n",
       " 'on january 3 2012 it was announced that the office and consumer products division of avery dennison was being bought by 3m for 550 million',\n",
       " 'the transaction was canceled by 3m in september 2012 amid antitrust concernsin may 2013 3m sold scientific anglers and ross reels to orvis',\n",
       " 'ross reels had been acquired by 3m in 2010',\n",
       " 'in march 2017 3m purchased johnson control international plcs safety gear business scott safety for 2 billionin 2017 3m had net sales for the year of 31657 billion up from 30109 billion the year before',\n",
       " 'in 2018 it was reported that the company would pay 850 million to end the minnesota water pollution case concerning perfluorochemicalson may 25 2018 michael f roman was appointed ceo by the board of directors',\n",
       " 'there are a few international subsidiaries such as 3m india 3m japan  3m canada',\n",
       " 'on december 19 2018 3m announced it had entered into a definitive agreement to acquire the technology business of mmodal for a total enterprise value of 10 billionin october 2019 3m purchased acelity and its kci subsidiaries for 67 billion including assumption of debt and other adjustments',\n",
       " ' products and patents \\n3m produces approximately 60000 products as of 2019 and has four business groups focused on safety and industrial transportation and electronics health care and consumer products',\n",
       " '3m obtained its first patent in 1924 and acquires approximately 3000 new patents annually',\n",
       " 'the company surpassed the 100000patent threshold in 2014',\n",
       " ' environmental record \\n\\n3ms pollution prevention pays 3p program was established in 1975',\n",
       " 'the program initially focused on pollution reduction at the plant level and was expanded to promote recycling and reduce waste across all divisions in 1989',\n",
       " 'by the early 1990s approximately 2500 3p projects decreased the companys total global pollutant generation by 50 percent and saved 3m 500600 million by eliminating the production of waste requiring subsequent treatmentin 1983 the oakdale dump in oakdale minnesota was listed as an epa superfund site after significant groundwater and soil contamination by vocs and heavy metals was uncovered',\n",
       " 'the oakdale dump was a 3m dumping site utilized through the 1940s and 1950s',\n",
       " 'during the 1990s and 2000s 3m reduced releases of toxic pollutants by 99 percent and greenhouse gas emissions by 72 percent',\n",
       " 'the company earned the united states environmental protection agencys energy star award each year the honor was presented as of 2012in 1999 the us environmental protection agency began investigating perfluorinated chemicals after receiving data on the global distribution and toxicity of perfluorooctanesulfonic acid pfos',\n",
       " 'these materials are part of a broad group of perfluoroalkyl and polyfluoroalkyl substances often referred to as pfas each of which has different chemical properties',\n",
       " '3m the former primary producer of pfos from the us announced the phaseout of pfos perfluorooctanoic acid and pfosrelated product production in may 2000',\n",
       " 'perfluorinated \\ncompounds produced by 3m have been used in nonstick cookware stainresistant fabrics and other products',\n",
       " 'the cottage grove facility manufactured pfas from the 1940s to 2002',\n",
       " 'in response to pfas contamination of the mississippi river and surrounding area 3m stated the area will be cleaned through a combination of groundwater pumpout wells and soil sediment excavation',\n",
       " 'the restoration plan was based on an analysis of the company property and surrounding lands',\n",
       " 'the onsite water treatment facility that handled the plants postproduction water was not capable of removing pfas which were released into the nearby mississippi river',\n",
       " 'the cleanup cost estimate which included a granular activated carbon system to remove pfas from the ground water was 50 to 56 million funded from a 147 million environmental reserve set aside in 2006in 2008 3m created the renewable energy division within 3ms industrial and transportation business to focus on energy generation and energy managementin late 2010 the state of minnesota sued 3m for 5 billion in punitive damages claiming they released pfcsclassified a toxic chemical by the epainto local waterways',\n",
       " 'a settlement for 850 million was reached in february 2018 although in 2019 3m along with the chemours company and dupont appeared before lawmakers to deny responsibility with company senior vp of corporate affairs denise rutherford arguing that the chemicals pose no human health threats at current levels and have no victims',\n",
       " ' earplug controversy \\nthe combat arms earplugs version 2 cae v2 was developed by aearo technologies for us military and civilian use',\n",
       " 'the cae v2 was a double ended earplug that 3m claimed would offer users different levels of protection',\n",
       " 'between 2003 and 2015 these earplugs were standard issue to members of the us military',\n",
       " '3m acquired aearo technologies in 2008in may 2016 moldexmetric inc a 3m competitor filed a whistleblower complaint against 3m under the false claims act',\n",
       " 'moldexmetric claimed that 3m made false claims to the us government about the safety of its earplugs and that it knew the earplugs had an inherently defective design',\n",
       " 'in 2018 3m agreed to pay 91 million to the us government to resolve the allegations without admitting liabilitysince 2018 more than 140000 former users of the earplugsprimarily us military veteranshave filed suit against 3m claiming they suffer from hearing loss tinnitus and other damage as a consequence of the defective designinternal emails showed that 3m officials boasted about charging 763 per piece for the earplugs which cost 85 cents to produce',\n",
       " 'the companys official response indicated that the cost to the government includes rd costs',\n",
       " ' n95 respirators and the covid19 pandemic \\nthe n95 respirator mask was developed by 3m and approved in 1972',\n",
       " 'being able to filter viral particulates its use was recommended during the covid19 pandemic but supply soon became short',\n",
       " 'much of the companys supply had already been sold prior to the outbreakthe shortages led to the us government asking 3m to stop exporting usmade n95 respirator masks to canada and to latin american countries and president donald trump invoked the defense production act to require 3m to prioritize orders from the federal government',\n",
       " 'the dispute was resolved when 3m agreed to import more respirators mostly from its factories in china3m later struck a 70mcad deal with the federal government of canada and the ontario provincial government to produce n95 masks at their plant in brockville ontario',\n",
       " ' operating facilities \\n\\n3ms general offices corporate research laboratories and some division laboratories in the us are in st paul minnesota',\n",
       " 'in the united states 3m operates 80 manufacturing facilities in 29 states and 125 manufacturing and converting facilities in 37 countries outside the us in 2017in march 2016 3m completed a 400000squarefoot 37000 m2 researchanddevelopment building that cost 150 million on its maplewood campus',\n",
       " 'seven hundred scientists from various divisions occupy the building',\n",
       " 'they were previously scattered across the campus',\n",
       " '3m hopes concentrating its research and development in this manner will improve collaboration',\n",
       " '3m received 96 million in local tax increment financing and relief from state sales taxes in order to assist with development of the buildingselected factory detail information\\n\\ncynthiana kentucky us factory producing postit notes 672 sku and scotch tape 147 sku',\n",
       " 'it has 539 employees and was established in 1969',\n",
       " 'newton aycliffe county durham uk factory producing respirators for workers safety using laser technology',\n",
       " 'it has 370 employees and recently there was an investment of 45 million 7 million',\n",
       " 'in minnesota 3ms hutchinson facility produces products for more than half of the companys 23 divisions as of 2019',\n",
       " 'the super hub has manufactured adhesive bandages for nexcare furnace filters and scotch tape among other products',\n",
       " 'the cottage grove plant is one of three operated by 3m for the production of pad conditioners as of 2011',\n",
       " '3m has operated a manufacturing plant in columbia missouri since 1970',\n",
       " 'the plant has been used for the production of products including electronic components solar and touchscreen films and stethoscopes',\n",
       " 'the facility received a 20 million expansion in 2012 and has approximately 400 employees',\n",
       " '3m opened the brookings south dakota plant in 1971 and announced a 70 million expansion in 2014',\n",
       " 'the facility manufactures more than 1700 health care products and employs 1100 people as of 2018 making the plant 3ms largest focused on health care',\n",
       " 'mask production at the site increased during the 2009 swine flu pandemic 20022004 sars outbreak 2018 california wildfires 201920 australian bushfire season and covid19 pandemic',\n",
       " '3ms springfield missouri plant opened in 1967 and makes industrial adhesives and tapes for aerospace manufacturers',\n",
       " 'in 2017 3m had approximately 330 employees in the metropolitan area and announced a 40 million expansion project to upgrade the facility and redevelop another building',\n",
       " 'in iowa the ames plant makes sandpaper products and received funding from the iowa economic development authority ieda for expansions in 2013 and 2018',\n",
       " 'the knoxville plant is among 3ms largest and produces approximately 12000 different products including adhesives and tapes',\n",
       " '3ms southeast asian operations are based in singapore where the company has invested 1 billion over 50 years',\n",
       " '3m has a facility in tuas a manufacturing plant and smart urban solutions lab in woodlands and a customer technical center in yishun',\n",
       " '3m expanded a factory in woodlands in 2011 announced a major expansion of the tuas plant in 2016 and opened new headquarters in singapore featuring a customer technical centre in 2018',\n",
       " 'the company has operated in china since 1984 and was shanghais first wholly foreignowned enterprise',\n",
       " '3ms seventh plant and the first dedicated to health care product production opened in shanghai in 2007',\n",
       " 'by october 2007 the company had opened an eighth manufacturing plant and technology center in guangzhou',\n",
       " '3m broke ground on its ninth manufacturing facility for the production of photovoltaics and other renewable energy products in hefei in 2011',\n",
       " '3m announced plans to construct a technology innovation center in chengdu in 2015 and opened a fifth design center in shanghai in 2019',\n",
       " ' leadership \\nboard chairs have included william l mcknight 19491966 bert s cross 19661970 harry heltzer 19701975 raymond h herzog 19751980 lewis w lehr 19801986 allen f jacobson 19861991 livio desimone 19912001 james mcnerney 20012005 george w buckley 20052012 and inge thulin 20122018',\n",
       " 'thulin continued to serve as executive chairman until current chair michael f roman was appointed in 20193ms ceos have included cross 19661970 heltzer 19701975 herzog 19751979 lehr 19791986 jacobson 19861991 desimone 19912001 mcnerney 20012005 robert s morrison 2005 interim buckley 20052012 thulin 20122018 and roman 2018present3ms presidents have included edgar b ober 19051929 mcknight 19291949 richard p carlton 19491953 herbert p buetow 19531963 cross 19631966 heltzer 19661970 and herzog 19701975',\n",
       " 'in the late 1970s the position was separated into roles for us and international operations',\n",
       " 'the position overseeing domestic operations was first held by lehr followed by john pitblado from 1979 to 1981 then jacobson from 1984 to 1991',\n",
       " 'james a thwaits led international operations starting in 1979',\n",
       " 'buckley and thulin were president during 20052012 and 20122018 respectively',\n",
       " ' see also \\noakdale dump\\n\\n\\n further reading \\nv huck brand of the tartan the 3m story appletoncenturycrofts 1955',\n",
       " 'early history of 3m and challenges includes employee profiles',\n",
       " 'c rimington from minnesota mining and manufacturing to 3m australia pty ltd 3m australia the story of an innovative company sid harta publishers 2013',\n",
       " 'recollections from 3m australia employees in context of broader organisational history',\n",
       " ' references \\n\\n\\n external links \\n3m worldwide\\nbusiness data for 3m \\ngoogle locals satellite image of 3m head office campus\\n3m global company profile from transnationaleorg\\nminnesota department of health on the oakdale dump superfund site\\nthe historical records of the 3m company are available for research use at the minnesota historical society']"
      ]
     },
     "execution_count": 8,
     "metadata": {},
     "output_type": "execute_result"
    }
   ],
   "source": [
    "final_list[0]"
   ]
  },
  {
   "cell_type": "markdown",
   "metadata": {},
   "source": [
    "##### TRIAL_1"
   ]
  },
  {
   "cell_type": "code",
   "execution_count": null,
   "metadata": {},
   "outputs": [],
   "source": [
    "from sklearn.feature_extraction.text import TfidfVectorizer\n",
    "vectorizer = TfidfVectorizer()\n",
    "sentence_vectors = vectorizer.fit_transform(txt)\n",
    "print(sentence_vectors.toarray())\n",
    "print(sentence_vectors)\n",
    "print(vectorizer.get_feature_names())\n",
    "print(sentence_vectors.shape)"
   ]
  },
  {
   "cell_type": "markdown",
   "metadata": {},
   "source": [
    "##### Comparing the 443 documents with 444th document"
   ]
  },
  {
   "cell_type": "code",
   "execution_count": 9,
   "metadata": {},
   "outputs": [],
   "source": [
    "from sklearn.feature_extraction.text import CountVectorizer\n",
    "from sklearn.feature_extraction.text import TfidfTransformer\n",
    "from nltk.corpus import stopwords\n",
    "import numpy.linalg as LA"
   ]
  },
  {
   "cell_type": "code",
   "execution_count": null,
   "metadata": {},
   "outputs": [],
   "source": []
  },
  {
   "cell_type": "code",
   "execution_count": 10,
   "metadata": {},
   "outputs": [],
   "source": [
    "en_stop = stopwords.words('english')\n",
    "vectorizer = CountVectorizer(stop_words = en_stop)\n",
    "transformer = TfidfTransformer()"
   ]
  },
  {
   "cell_type": "markdown",
   "metadata": {},
   "source": [
    "##### Cosine similarity fucntion"
   ]
  },
  {
   "cell_type": "code",
   "execution_count": 12,
   "metadata": {},
   "outputs": [],
   "source": [
    "cx = lambda a, b : round(np.inner(a, b)/(LA.norm(a)*LA.norm(b)), 3)\n",
    "sum_cosine = []\n",
    "np.seterr(divide = 'ignore', invalid = 'ignore')\n",
    "\n",
    "for i in range(0,len(final_list)):\n",
    "    train_vector = vectorizer.fit_transform(final_list[i]).toarray()\n",
    "    test_vector = vectorizer.transform(final_list[443]).toarray()\n",
    "    for vector in train_vector:\n",
    "        cosine_list = []\n",
    "        for testV in test_vector:\n",
    "            cosine = cx(vector, testV)\n",
    "            cosine_list.append(cosine)\n",
    "            s = np.nan_to_num(cosine_list)\n",
    "    sum_cosine.append(sum(s)/len(s))"
   ]
  },
  {
   "cell_type": "code",
   "execution_count": 13,
   "metadata": {},
   "outputs": [
    {
     "data": {
      "text/plain": [
       "444"
      ]
     },
     "execution_count": 13,
     "metadata": {},
     "output_type": "execute_result"
    }
   ],
   "source": [
    "len(sum_cosine)"
   ]
  },
  {
   "cell_type": "code",
   "execution_count": 14,
   "metadata": {},
   "outputs": [],
   "source": [
    "data = {'ARTICLE':final_list,'cosine_similarity_with_last_document':sum_cosine}"
   ]
  },
  {
   "cell_type": "code",
   "execution_count": 15,
   "metadata": {},
   "outputs": [],
   "source": [
    "import pandas\n",
    "df = pd.DataFrame(data)"
   ]
  },
  {
   "cell_type": "code",
   "execution_count": 16,
   "metadata": {},
   "outputs": [
    {
     "data": {
      "text/html": [
       "<div>\n",
       "<style scoped>\n",
       "    .dataframe tbody tr th:only-of-type {\n",
       "        vertical-align: middle;\n",
       "    }\n",
       "\n",
       "    .dataframe tbody tr th {\n",
       "        vertical-align: top;\n",
       "    }\n",
       "\n",
       "    .dataframe thead th {\n",
       "        text-align: right;\n",
       "    }\n",
       "</style>\n",
       "<table border=\"1\" class=\"dataframe\">\n",
       "  <thead>\n",
       "    <tr style=\"text-align: right;\">\n",
       "      <th></th>\n",
       "      <th>ARTICLE</th>\n",
       "      <th>cosine_similarity_with_last_document</th>\n",
       "    </tr>\n",
       "  </thead>\n",
       "  <tbody>\n",
       "    <tr>\n",
       "      <td>0</td>\n",
       "      <td>[the 3m company is an american multinational c...</td>\n",
       "      <td>0.038135</td>\n",
       "    </tr>\n",
       "    <tr>\n",
       "      <td>1</td>\n",
       "      <td>[aah is a pharmaceutical wholesaler in the uni...</td>\n",
       "      <td>0.010351</td>\n",
       "    </tr>\n",
       "    <tr>\n",
       "      <td>2</td>\n",
       "      <td>[acg is a pharmaceutical company with headquar...</td>\n",
       "      <td>0.002162</td>\n",
       "    </tr>\n",
       "    <tr>\n",
       "      <td>3</td>\n",
       "      <td>[alkabelló as nasdaq copenhagen alk b also com...</td>\n",
       "      <td>0.001973</td>\n",
       "    </tr>\n",
       "    <tr>\n",
       "      <td>4</td>\n",
       "      <td>[ariad pharmaceuticals inc was an american onc...</td>\n",
       "      <td>0.035459</td>\n",
       "    </tr>\n",
       "    <tr>\n",
       "      <td>...</td>\n",
       "      <td>...</td>\n",
       "      <td>...</td>\n",
       "    </tr>\n",
       "    <tr>\n",
       "      <td>439</td>\n",
       "      <td>[wockhardt ltd is a global pharmaceutical and ...</td>\n",
       "      <td>0.001486</td>\n",
       "    </tr>\n",
       "    <tr>\n",
       "      <td>440</td>\n",
       "      <td>[wuxi apptec wuxi pronounced wushee is a globa...</td>\n",
       "      <td>0.003459</td>\n",
       "    </tr>\n",
       "    <tr>\n",
       "      <td>441</td>\n",
       "      <td>[wyeth llc was an american pharmaceutical comp...</td>\n",
       "      <td>0.001541</td>\n",
       "    </tr>\n",
       "    <tr>\n",
       "      <td>442</td>\n",
       "      <td>[zandu realty limited formerly zandu pharmaceu...</td>\n",
       "      <td>0.012595</td>\n",
       "    </tr>\n",
       "    <tr>\n",
       "      <td>443</td>\n",
       "      <td>[zentiva is a pharmaceutical company based in ...</td>\n",
       "      <td>0.135541</td>\n",
       "    </tr>\n",
       "  </tbody>\n",
       "</table>\n",
       "<p>444 rows × 2 columns</p>\n",
       "</div>"
      ],
      "text/plain": [
       "                                               ARTICLE  \\\n",
       "0    [the 3m company is an american multinational c...   \n",
       "1    [aah is a pharmaceutical wholesaler in the uni...   \n",
       "2    [acg is a pharmaceutical company with headquar...   \n",
       "3    [alkabelló as nasdaq copenhagen alk b also com...   \n",
       "4    [ariad pharmaceuticals inc was an american onc...   \n",
       "..                                                 ...   \n",
       "439  [wockhardt ltd is a global pharmaceutical and ...   \n",
       "440  [wuxi apptec wuxi pronounced wushee is a globa...   \n",
       "441  [wyeth llc was an american pharmaceutical comp...   \n",
       "442  [zandu realty limited formerly zandu pharmaceu...   \n",
       "443  [zentiva is a pharmaceutical company based in ...   \n",
       "\n",
       "     cosine_similarity_with_last_document  \n",
       "0                                0.038135  \n",
       "1                                0.010351  \n",
       "2                                0.002162  \n",
       "3                                0.001973  \n",
       "4                                0.035459  \n",
       "..                                    ...  \n",
       "439                              0.001486  \n",
       "440                              0.003459  \n",
       "441                              0.001541  \n",
       "442                              0.012595  \n",
       "443                              0.135541  \n",
       "\n",
       "[444 rows x 2 columns]"
      ]
     },
     "execution_count": 16,
     "metadata": {},
     "output_type": "execute_result"
    }
   ],
   "source": [
    "df"
   ]
  },
  {
   "cell_type": "code",
   "execution_count": 17,
   "metadata": {},
   "outputs": [
    {
     "data": {
      "text/plain": [
       "37"
      ]
     },
     "execution_count": 17,
     "metadata": {},
     "output_type": "execute_result"
    }
   ],
   "source": [
    "len(cosine_list)"
   ]
  },
  {
   "cell_type": "code",
   "execution_count": 18,
   "metadata": {},
   "outputs": [
    {
     "data": {
      "text/plain": [
       "444"
      ]
     },
     "execution_count": 18,
     "metadata": {},
     "output_type": "execute_result"
    }
   ],
   "source": [
    "len(final_list)"
   ]
  },
  {
   "cell_type": "code",
   "execution_count": null,
   "metadata": {},
   "outputs": [],
   "source": []
  }
 ],
 "metadata": {
  "kernelspec": {
   "display_name": "Python 3",
   "language": "python",
   "name": "python3"
  },
  "language_info": {
   "codemirror_mode": {
    "name": "ipython",
    "version": 3
   },
   "file_extension": ".py",
   "mimetype": "text/x-python",
   "name": "python",
   "nbconvert_exporter": "python",
   "pygments_lexer": "ipython3",
   "version": "3.7.4"
  }
 },
 "nbformat": 4,
 "nbformat_minor": 2
}
