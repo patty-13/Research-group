{
 "cells": [
  {
   "cell_type": "code",
   "execution_count": 2,
   "metadata": {},
   "outputs": [],
   "source": [
    "import wikipedia"
   ]
  },
  {
   "cell_type": "markdown",
   "metadata": {},
   "source": [
    "# Fetching Links"
   ]
  },
  {
   "cell_type": "code",
   "execution_count": 9,
   "metadata": {},
   "outputs": [],
   "source": [
    "page_fetch=wikipedia.page(\"List of pharmaceutical companies\")"
   ]
  },
  {
   "cell_type": "code",
   "execution_count": 11,
   "metadata": {},
   "outputs": [
    {
     "data": {
      "text/plain": [
       "'This listing is limited to those independent companies and subsidiaries notable enough to have their own articles in Wikipedia.  Both going concerns and defunct firms are included, as well as firms that were part of the pharmaceutical industry at some time in their existence.  Included here are companies engaged not only in pharmaceutical development, but also supply chain management and device development, including compounding pharmacies.  Retail pharmacies; firms specialized in the collection, fractionation and distribution of human blood; and medical device manufacturers where the device is not related to pharmaceutical administration are not included.  Entry titles have been shortened in a number of cases, so that if the article title of a company is \"XYZ Pharma\", for instance, the entry will appear here as \"XYZ\".\\nCompanies which existed as a joint venture for their entire existence are indicated by a super-script \"JV\", as in PerseidJV.\\n\\n\\n== Alphabetical listing—Active firms ==\\n\\n\\n=== #—A ===\\n\\n\\n=== B—D ===\\n\\n\\n=== E—L ===\\n\\n\\n=== M—P ===\\n\\n\\n=== R—T ===\\n\\n\\n=== U—Z ===\\n\\n\\n== Alphabetical listing—Defunct firms ==\\n\\n\\n=== #—A ===\\n\\n\\n=== B—D ===\\n\\n\\n=== E—L ===\\n\\n\\n=== M—P ===\\n\\n\\n=== R—T ===\\n\\n\\n=== U—Z ===\\n\\n\\n== See also ==\\nList of largest biotechnology & pharmaceutical companies\\nList of pharmaceutical manufacturers in the UK'"
      ]
     },
     "execution_count": 11,
     "metadata": {},
     "output_type": "execute_result"
    }
   ],
   "source": [
    "page_fetch.content"
   ]
  },
  {
   "cell_type": "code",
   "execution_count": 13,
   "metadata": {},
   "outputs": [],
   "source": [
    "l=page_fetch.links"
   ]
  },
  {
   "cell_type": "code",
   "execution_count": 14,
   "metadata": {},
   "outputs": [
    {
     "data": {
      "text/plain": [
       "['3M Pharmaceuticals',\n",
       " 'AAH Pharmaceuticals',\n",
       " 'ACG Group',\n",
       " 'ALK-Abelló',\n",
       " 'ARIAD Pharmaceuticals',\n",
       " 'AbbVie Inc.',\n",
       " 'Abbott Laboratories',\n",
       " 'Acadia Pharmaceuticals',\n",
       " 'Acorda Therapeutics',\n",
       " 'Actavis',\n",
       " 'Actelion',\n",
       " 'Adcock Ingram',\n",
       " 'Aderis Pharmaceuticals',\n",
       " 'Adolor Corporation',\n",
       " 'Advanced Chemical Industries (ACI)',\n",
       " 'Advanz Pharma',\n",
       " 'Advaxis',\n",
       " 'Ajanta Pharma',\n",
       " 'Alcon',\n",
       " 'Alembic Pharmaceuticals Ltd',\n",
       " 'Alexion Pharmaceuticals',\n",
       " 'Alkaloid (company)',\n",
       " 'Alkermes (company)',\n",
       " 'Allen & Hanburys',\n",
       " 'Allergan',\n",
       " 'Allergan, Inc.',\n",
       " 'Almirall',\n",
       " 'Alnylam Pharmaceuticals',\n",
       " 'Alphapharm',\n",
       " 'Altana',\n",
       " 'Alza',\n",
       " 'Alzheon',\n",
       " 'American Pharmacists Association',\n",
       " 'Amersham plc',\n",
       " 'Amgen',\n",
       " 'Amneal Pharmaceuticals',\n",
       " 'Amylin Pharmaceuticals',\n",
       " 'Anacor',\n",
       " 'Anatomy of an Epidemic',\n",
       " 'Antibody Solutions',\n",
       " 'Apotex',\n",
       " 'Aptalis',\n",
       " 'Arbutus Biopharma',\n",
       " 'AryoGen',\n",
       " 'Aspen Pharmacare',\n",
       " 'Assertio Therapeutics',\n",
       " 'Astellas Pharma',\n",
       " 'AstraZeneca',\n",
       " 'Astra AB',\n",
       " 'Aurobindo Pharma',\n",
       " 'Avax Technologies',\n",
       " 'Avella Specialty Pharmacy',\n",
       " 'Aventis Pharma',\n",
       " 'B. Braun Melsungen',\n",
       " 'BCM (Fareva)',\n",
       " 'BTG plc',\n",
       " 'Bad Pharma',\n",
       " 'Bargn Farmaceutici Phils Co',\n",
       " 'Barr Pharmaceuticals',\n",
       " 'Bausch & Lomb',\n",
       " 'Bausch Health',\n",
       " 'Baxalta',\n",
       " 'Baxter International',\n",
       " 'Bayer',\n",
       " 'Beer and breweries by region',\n",
       " 'Benitec Biopharma',\n",
       " 'Beximco Pharmaceuticals Ltd',\n",
       " 'Bial',\n",
       " 'Big Pharma (book)',\n",
       " 'BioCryst Pharmaceuticals',\n",
       " 'BioMarin Pharmaceutical',\n",
       " 'BioMérieux',\n",
       " 'Biocon',\n",
       " 'Biogen',\n",
       " 'Biolex',\n",
       " 'BiondVax',\n",
       " 'Bionovo',\n",
       " 'Biotecnol',\n",
       " 'Biovail',\n",
       " 'Bioverativ',\n",
       " 'Biovest',\n",
       " 'Biovista',\n",
       " 'Bluepharma',\n",
       " 'Boehringer Ingelheim',\n",
       " 'Boehringer Mannheim',\n",
       " 'Bosnalijek',\n",
       " 'Bristol-Myers Squibb',\n",
       " 'Buchler (Company)',\n",
       " 'CSL Behring',\n",
       " 'CSL Limited',\n",
       " 'Cadila Healthcare',\n",
       " 'Cadila Pharmaceuticals',\n",
       " 'Cambridge Antibody Technology',\n",
       " 'Canadian Plasma Resources',\n",
       " 'Cangene',\n",
       " 'Capsugel',\n",
       " 'CareFusion',\n",
       " 'Catabasis Pharmaceuticals',\n",
       " 'Catalent',\n",
       " 'Cathay Drug',\n",
       " 'Celesio',\n",
       " 'Celgene',\n",
       " 'Celltech',\n",
       " 'Century Pharmaceuticals',\n",
       " 'Cephalon',\n",
       " 'Ceragenix Pharmaceuticals',\n",
       " 'Chemidex',\n",
       " 'Chiesi Farmaceutici S.p.A.',\n",
       " 'Chiron Corporation',\n",
       " 'Chugai Pharmaceutical Co.',\n",
       " 'CinnaGen',\n",
       " 'Cipla',\n",
       " 'Clinical research associate',\n",
       " 'Clovis Oncology',\n",
       " 'CoCo Therapeutics',\n",
       " 'CoTherix',\n",
       " 'Contract research organization',\n",
       " 'Crookes Healthcare',\n",
       " 'Crucell',\n",
       " 'Cubist Pharmaceuticals',\n",
       " 'CureVac',\n",
       " 'Cymbal manufacturers',\n",
       " 'Cynapsus Therapeutics',\n",
       " 'CytRx',\n",
       " 'Dabur',\n",
       " 'Daiichi Sankyo',\n",
       " 'Dawakhana Shifaul Amraz',\n",
       " 'Debiopharm',\n",
       " 'Dentsply Sirona',\n",
       " 'Deurali-Janta Pharmaceuticals',\n",
       " 'Diabetology Ltd',\n",
       " 'Diffusion Pharmaceuticals',\n",
       " \"Dr. Reddy's Laboratories\",\n",
       " 'Drug rep',\n",
       " 'Ego Pharmaceuticals',\n",
       " 'Eisai (company)',\n",
       " 'Elder Pharmaceuticals',\n",
       " 'Eli Lilly and Company',\n",
       " 'Emcure Pharmaceuticals',\n",
       " 'Emergent BioSolutions',\n",
       " 'Endo International plc',\n",
       " 'Eskayef Pharmaceuticals Ltd.',\n",
       " 'Esteve',\n",
       " 'Fabre-Kramer Pharmaceuticals',\n",
       " 'Fareva',\n",
       " 'Faron Pharmaceuticals',\n",
       " 'Ferring Pharmaceuticals',\n",
       " 'Food and Drug Administration',\n",
       " 'Forest Laboratories',\n",
       " 'Fortress Biotech',\n",
       " 'Fresenius',\n",
       " 'G.D. Searle, LLC',\n",
       " 'G.F. Harvey Company',\n",
       " 'GPC Biotech',\n",
       " 'Galderma',\n",
       " 'Gedeon Richter (company)',\n",
       " 'General Pharma',\n",
       " 'Genmab',\n",
       " 'Gilead Sciences',\n",
       " 'Glatt group',\n",
       " 'GlaxoSmithKline',\n",
       " 'Glenmark Pharmaceuticals',\n",
       " 'Grifols',\n",
       " 'Grindeks',\n",
       " 'Grünenthal',\n",
       " 'Help Remedies',\n",
       " 'Hemispherx Biopharma',\n",
       " 'Hetero Drugs',\n",
       " 'Hikma Pharmaceuticals',\n",
       " 'Hoechst AG',\n",
       " 'Hoffmann–La Roche',\n",
       " 'Horizon Therapeutics',\n",
       " 'Hospira',\n",
       " 'Hovione',\n",
       " 'Huadong Medicine',\n",
       " 'Human Genome Sciences',\n",
       " 'ITH Pharma',\n",
       " 'Incepta Pharmaceuticals',\n",
       " 'Incyte',\n",
       " 'Institute for OneWorld Health',\n",
       " 'Intas Biopharmaceuticals',\n",
       " 'Intellia Therapeutics',\n",
       " 'Ionis Pharmaceuticals',\n",
       " 'Ipca Laboratories',\n",
       " 'Ipsen',\n",
       " 'JN-International Medical Corporation',\n",
       " 'Janssen Pharmaceutica',\n",
       " 'Jazz Pharmaceuticals',\n",
       " 'Jenapharm',\n",
       " 'Johnson & Johnson',\n",
       " 'Julphar',\n",
       " 'Juno Therapeutics',\n",
       " 'Kimia Farma',\n",
       " 'King Pharmaceuticals',\n",
       " 'Kite Pharma',\n",
       " 'Knoll Pharmaceuticals',\n",
       " 'Kyowa Hakko Kirin',\n",
       " 'Laboratoires Pierre Fabre',\n",
       " 'Laboratoires Servier',\n",
       " 'Leo Pharma',\n",
       " 'List of CAx companies',\n",
       " 'List of CIGS companies',\n",
       " 'List of Champagne houses',\n",
       " 'List of EDA companies',\n",
       " 'List of advertising technology companies',\n",
       " 'List of aerial lift manufacturers',\n",
       " 'List of aircraft manufacturers',\n",
       " 'List of airline holding companies',\n",
       " 'List of animation studios',\n",
       " 'List of anime companies',\n",
       " 'List of asset management firms',\n",
       " 'List of astronomical instrument makers',\n",
       " 'List of automation integrator companies',\n",
       " 'List of automobile manufacturers',\n",
       " 'List of bean-to-bar chocolate manufacturers',\n",
       " 'List of bicycle brands and manufacturing companies',\n",
       " 'List of book sales clubs',\n",
       " 'List of bookstore chains',\n",
       " 'List of bus operating companies',\n",
       " 'List of cable television companies',\n",
       " 'List of casinos',\n",
       " 'List of casual dining restaurant chains',\n",
       " 'List of chained-brand hotels',\n",
       " 'List of charter airlines',\n",
       " 'List of cheesemakers',\n",
       " 'List of coffee companies',\n",
       " 'List of coffeehouse chains',\n",
       " 'List of computer hardware manufacturers',\n",
       " 'List of computer system manufacturers',\n",
       " 'List of concentrating solar thermal power companies',\n",
       " 'List of construction equipment rental companies',\n",
       " 'List of convenience stores',\n",
       " 'List of cruise lines',\n",
       " 'List of defunct airlines',\n",
       " 'List of department stores by country',\n",
       " 'List of disc golf brands and manufacturers',\n",
       " 'List of drugs',\n",
       " 'List of dump truck manufacturers',\n",
       " 'List of electric-vehicle-battery manufacturers',\n",
       " 'List of electronics brands',\n",
       " 'List of enterprise search vendors',\n",
       " 'List of fast food restaurant chains',\n",
       " 'List of ferry operators',\n",
       " 'List of film production companies',\n",
       " 'List of fitness wear brands',\n",
       " 'List of flash memory controller manufacturers',\n",
       " 'List of food companies',\n",
       " 'List of freight ship companies',\n",
       " 'List of game manufacturers',\n",
       " 'List of golf equipment manufacturers',\n",
       " 'List of health club chains',\n",
       " 'List of hedge funds',\n",
       " 'List of horn makers',\n",
       " 'List of hypermarkets',\n",
       " 'List of ice cream parlor chains',\n",
       " 'List of independent bookstores',\n",
       " 'List of international auto shipping companies',\n",
       " 'List of international banking institutions',\n",
       " 'List of investment banks',\n",
       " 'List of largest biotechnology & pharmaceutical companies',\n",
       " 'List of largest biotechnology and pharmaceutical companies',\n",
       " 'List of largest chemical producers',\n",
       " 'List of largest law firms by profits per partner',\n",
       " 'List of largest oil and gas companies by revenue',\n",
       " 'List of largest pharmaceutical settlements',\n",
       " 'List of lingerie brands',\n",
       " 'List of locomotive builders',\n",
       " 'List of low-cost airlines',\n",
       " 'List of management consulting firms',\n",
       " 'List of marketing research firms',\n",
       " 'List of microphone manufacturers',\n",
       " 'List of modern armament manufacturers',\n",
       " 'List of motorcycle manufacturers',\n",
       " 'List of mountaineering equipment brands',\n",
       " 'List of off-label promotion pharmaceutical settlements',\n",
       " 'List of oil exploration and production companies',\n",
       " 'List of oilfield service companies',\n",
       " 'List of passenger airlines',\n",
       " 'List of passenger ship companies',\n",
       " 'List of pharmaceutical manufacturers in the United Kingdom',\n",
       " 'List of pharmacies',\n",
       " 'List of photovoltaics companies',\n",
       " 'List of pizza chains',\n",
       " 'List of pornography companies',\n",
       " 'List of private equity firms',\n",
       " 'List of public utilities',\n",
       " \"List of publishers of children's books\",\n",
       " 'List of radio-controlled model aircraft kit manufacturers',\n",
       " 'List of railway companies',\n",
       " 'List of regional airlines',\n",
       " 'List of restaurant chains',\n",
       " \"List of retailers' cooperatives\",\n",
       " 'List of revolving restaurants',\n",
       " 'List of rolling stock manufacturers',\n",
       " 'List of scooter manufacturers',\n",
       " 'List of semiconductor IP core vendors',\n",
       " 'List of ship companies',\n",
       " 'List of silicon producers',\n",
       " 'List of skateboarding brands',\n",
       " 'List of ski brands',\n",
       " 'List of soft drink producers',\n",
       " 'List of solid-state drive manufacturers',\n",
       " 'List of sporting goods manufacturers',\n",
       " 'List of steel producers',\n",
       " 'List of stock exchanges',\n",
       " 'List of stuffed toy manufacturers',\n",
       " 'List of supermarket chains',\n",
       " 'List of superstores',\n",
       " 'List of swimwear brands',\n",
       " 'List of tea companies',\n",
       " 'List of telephone operating companies',\n",
       " 'List of television networks by country',\n",
       " 'List of the largest information technology companies',\n",
       " 'List of touch-solution manufacturers',\n",
       " 'List of traction motor manufacturers',\n",
       " 'List of tractor manufacturers',\n",
       " 'List of tram builders',\n",
       " 'List of venture capital firms',\n",
       " 'List of vineyards and wineries',\n",
       " 'List of wind turbine manufacturers',\n",
       " 'Lists of airlines',\n",
       " 'Lists of banks',\n",
       " 'Lists of bookstores',\n",
       " 'Lists of companies',\n",
       " 'Lists of record labels',\n",
       " 'Lists of video game companies',\n",
       " 'Locus Biosciences',\n",
       " 'Lundbeck',\n",
       " 'Lupin Limited',\n",
       " 'Mad in America',\n",
       " 'Mallinckrodt',\n",
       " 'MannKind Corporation',\n",
       " 'Marcia Angell',\n",
       " 'Maxygen',\n",
       " 'McGuff Companies',\n",
       " 'McNeil Consumer Healthcare',\n",
       " 'MedImmune',\n",
       " 'Meda AB',\n",
       " 'Medac',\n",
       " 'Medarex',\n",
       " 'Medinfar',\n",
       " 'Melior Discovery',\n",
       " 'Menarini',\n",
       " 'Merck & Co.',\n",
       " 'Merck Group',\n",
       " 'Mitsubishi Tanabe Pharma',\n",
       " 'Moderna',\n",
       " 'Molecular Partners',\n",
       " 'Mustang Bio',\n",
       " 'Mylan',\n",
       " 'NovaBay Pharmaceuticals',\n",
       " 'Novartis',\n",
       " 'Novavax',\n",
       " 'Novo Nordisk',\n",
       " 'Noxxon Pharma',\n",
       " 'Nycomed',\n",
       " 'Octapharma',\n",
       " 'Onyx Pharmaceuticals',\n",
       " 'Orexo',\n",
       " 'Orion Corporation',\n",
       " 'Ortho-McNeil Pharmaceutical',\n",
       " 'Ortho Pharmaceutical',\n",
       " 'Otsuka Pharmaceutical',\n",
       " 'Oxford BioMedica',\n",
       " 'PATH (global health organization)',\n",
       " 'PainCeptor Pharma',\n",
       " 'Panacea Biotec',\n",
       " 'Par Pharmaceutical',\n",
       " 'Parke-Davis',\n",
       " 'Patheon',\n",
       " 'Perrigo',\n",
       " 'Perseid Therapeutics',\n",
       " 'Pfizer',\n",
       " 'Pharma Medica',\n",
       " 'Pharma Nord',\n",
       " 'Pharmaceutical Product Development',\n",
       " 'Pharmaceutical companies',\n",
       " 'Pharmaceutical industry',\n",
       " 'Pharmaceutical industry in Bangladesh',\n",
       " 'Pharmaceutical industry in China',\n",
       " 'Pharmaceutical industry in India',\n",
       " 'Pharmaceutical industry in Pakistan',\n",
       " 'Pharmaceutical industry in Russia',\n",
       " 'Pharmaceutical industry in Switzerland',\n",
       " \"Pharmaceutical industry in the People's Republic of China\",\n",
       " 'Pharmaceutical industry in the United Kingdom',\n",
       " 'Pharmacia',\n",
       " 'Pharmacosmos',\n",
       " 'Pharmascience',\n",
       " 'Piramal Group',\n",
       " 'Plexxikon',\n",
       " 'Pliva',\n",
       " 'ProMetic Life Sciences',\n",
       " 'Procter & Gamble',\n",
       " 'Proteolix',\n",
       " 'Purdue Pharma',\n",
       " 'Ranbaxy Laboratories',\n",
       " 'Reckitt Benckiser',\n",
       " 'Regeneron Pharmaceuticals',\n",
       " 'Renovo plc',\n",
       " 'Repligen',\n",
       " 'Rhône-Poulenc',\n",
       " 'Rubicon Research',\n",
       " 'SIGA Technologies',\n",
       " 'STADA Arzneimittel',\n",
       " 'Saidal',\n",
       " 'Salix Pharmaceuticals',\n",
       " 'Sangamo Therapeutics',\n",
       " 'Sanofi',\n",
       " 'Sanofi Pasteur',\n",
       " 'Schering-Plough',\n",
       " 'Semiconductor equipment sales leaders by year',\n",
       " 'Serono',\n",
       " 'Serum Institute of India',\n",
       " 'Shionogi',\n",
       " 'Shire (pharmaceutical company)',\n",
       " 'Side Effects (Bass book)',\n",
       " 'Sigma Healthcare',\n",
       " 'Sinopharm Group',\n",
       " 'Smith, Kline & French',\n",
       " 'Solvay S.A.',\n",
       " 'Sphere Fluidics',\n",
       " 'Square Pharmaceuticals',\n",
       " 'State Pharmaceuticals Corporation of Sri Lanka',\n",
       " 'Stiefel Laboratories',\n",
       " 'Strides Arcolab',\n",
       " 'Stryker Corporation',\n",
       " 'Sucampo Pharmaceuticals',\n",
       " 'Sumitomo Dainippon Pharma',\n",
       " 'Sun Pharmaceutical',\n",
       " 'Sunovion',\n",
       " 'Sutro Biopharma',\n",
       " 'Swedish Orphan Biovitrum',\n",
       " 'Takeda Pharmaceutical Company',\n",
       " 'Taro Pharmaceuticals',\n",
       " 'Tasly',\n",
       " 'Teva Active Pharmaceutical Ingredients',\n",
       " 'Teva Pharmaceuticals',\n",
       " 'The Billion-Dollar Molecule',\n",
       " 'Torrent Pharmaceuticals',\n",
       " 'Turing Pharmaceuticals',\n",
       " 'UCB (company)',\n",
       " 'USV Private Limited',\n",
       " 'Unichem Laboratories',\n",
       " 'United States',\n",
       " 'Upjohn',\n",
       " 'Veloxis Pharmaceuticals',\n",
       " 'Vertex Pharmaceuticals',\n",
       " 'Vion Pharmaceuticals, Inc.',\n",
       " 'ViroMed',\n",
       " 'Warner-Lambert',\n",
       " 'Wockhardt',\n",
       " 'WuXi AppTec',\n",
       " 'Wyeth',\n",
       " 'Yuhan',\n",
       " 'Zandu Realty',\n",
       " 'Zeneca',\n",
       " 'Zentiva',\n",
       " 'Zoetis',\n",
       " 'ZymoGenetics']"
      ]
     },
     "execution_count": 14,
     "metadata": {},
     "output_type": "execute_result"
    }
   ],
   "source": [
    "l"
   ]
  },
  {
   "cell_type": "code",
   "execution_count": 15,
   "metadata": {},
   "outputs": [
    {
     "data": {
      "text/plain": [
       "460"
      ]
     },
     "execution_count": 15,
     "metadata": {},
     "output_type": "execute_result"
    }
   ],
   "source": [
    "len(l)"
   ]
  },
  {
   "cell_type": "code",
   "execution_count": 16,
   "metadata": {},
   "outputs": [
    {
     "data": {
      "text/plain": [
       "'The 3M Company is an American multinational conglomerate corporation operating in the fields of industry, worker safety, US health care, and consumer goods. The company produces over 60,000 products under several brands, including adhesives, abrasives, laminates, passive fire protection, personal protective equipment, window films, paint protection films, dental and orthodontic products, electrical and electronic connecting and insulating materials, medical products, car-care products, electronic circuits, healthcare software and optical films. It is based in Maplewood, a suburb of Saint Paul, Minnesota.3M made $32.8 billion in total sales in 2018, and ranked number 95 in the Fortune 500 list of the largest United States corporations by total revenue. As of 2018, the company had approximately 93,500 employees, and had operations in more than 70 countries.In 2016, a complaint was filed against 3M for knowingly selling defective earplugs issued to military personnel deployed to Iraq and Afghanistan. These earplugs may have caused permanent hearing damage. 3M paid a $9.1 million settlement to the U.S. government.'"
      ]
     },
     "execution_count": 16,
     "metadata": {},
     "output_type": "execute_result"
    }
   ],
   "source": [
    "wikipedia.summary(l[0])"
   ]
  },
  {
   "cell_type": "code",
   "execution_count": 19,
   "metadata": {},
   "outputs": [],
   "source": [
    "text=[]\n",
    "for i in range(20):\n",
    "    text.append(wikipedia.summary(l[i]))"
   ]
  },
  {
   "cell_type": "markdown",
   "metadata": {},
   "source": [
    "# Appending 20 articles summary"
   ]
  },
  {
   "cell_type": "code",
   "execution_count": 20,
   "metadata": {},
   "outputs": [
    {
     "data": {
      "text/plain": [
       "['The 3M Company is an American multinational conglomerate corporation operating in the fields of industry, worker safety, US health care, and consumer goods. The company produces over 60,000 products under several brands, including adhesives, abrasives, laminates, passive fire protection, personal protective equipment, window films, paint protection films, dental and orthodontic products, electrical and electronic connecting and insulating materials, medical products, car-care products, electronic circuits, healthcare software and optical films. It is based in Maplewood, a suburb of Saint Paul, Minnesota.3M made $32.8 billion in total sales in 2018, and ranked number 95 in the Fortune 500 list of the largest United States corporations by total revenue. As of 2018, the company had approximately 93,500 employees, and had operations in more than 70 countries.In 2016, a complaint was filed against 3M for knowingly selling defective earplugs issued to military personnel deployed to Iraq and Afghanistan. These earplugs may have caused permanent hearing damage. 3M paid a $9.1 million settlement to the U.S. government.',\n",
       " 'AAH is a pharmaceutical wholesaler in the United Kingdom. Originally formed in 1892 as a company selling solid fuels in South Wales, it was floated on the stock exchange in 1923. It diversified into pharmaceuticals in the 1970s, and since 1995 it has been a subsidiary of the German company Celesio AG.\\n\\n',\n",
       " 'ACG is a pharmaceutical company with headquarters in Mumbai, India. The company has presence in over 100 countries.  ACG provides empty hard pharmaceutical capsules, encapsulation machinery, tablet coating systems, tablet compression systems, fluid bed equipment, tablet tooling and performance enhancers along with online and inline analytical and inspection systems. The company also provides blister packing, high barrier packaging films, carton packing machines, camera inspection systems, candy-wrapping machines and end-of-line case packers.ACG has about 4,500 employees and is one of the leading manufacturers of empty hard-shell capsules. The ACG group offers manufacturing, packaging, research and development services for the pharmaceutical industry.\\n\\n',\n",
       " 'ALK-Abelló A/S (Nasdaq Copenhagen: ALK B), also commonly known as ALK, is a Denmark-based pharmaceutical company which specializes in the development and manufacture of allergy immunotherapy (AIT) products for the prevention and treatment of allergy. It is one of the world’s largest makers of allergy immunotherapy products  (also known as ‘allergy vaccines’) with 81% of its revenue coming from sales in Europe.\\n\\n',\n",
       " \"ARIAD Pharmaceuticals, Inc. was an American oncology company, now part of Takeda Oncology, which was founded in 1991 by Harvey J. Berger, M.D. and headquartered in Cambridge, Massachusetts. ARIAD engaged in the discovery, development, and commercialization of medicines for cancer patients.\\nARIAD’s most prominent drug discoveries include Iclusig, designed for patients with all forms of Philadelphia chromosome-positive [Ph+] chronic myeloid leukemia (CML) or Ph+ acute lymphoblastic leukemia (ALL) who are resistant to or unable to tolerate other tyrosine kinase inhibitors, and brigatinib, a lung cancer drug which has completed its registration trial in ALK fusion driven non-small cell lung cancer as of June 2016 and was approved in the U.S. in April 2017.\\nIn January 2017, Takeda announced it would acquire ARIAD for $5.2 billion, expanding the company's oncology and hematology business. On February 16, 2017, Takeda Pharmaceuticals, Ltd. announced it had completed its acquisition of ARIAD and incorporated ARIAD into Takeda Oncology.\",\n",
       " 'AbbVie is an American publicly traded biopharmaceutical company founded in 2013. It originated as a spin-off of Abbott Laboratories.',\n",
       " 'Abbott Laboratories is an American multinational medical devices and health care company with headquarters in Abbott Park, Illinois, United States. The company was founded by Chicago physician Wallace Calvin Abbott in 1888 to formulate known drugs; today, it sells medical devices, diagnostics, branded generic medicines and nutritional products. It split off its research-based pharmaceuticals business into AbbVie in 2013.\\nAmong its well-known products across the medical devices, diagnostics, and nutrition product divisions are Pedialyte, Similac, Ensure, Glucerna, ZonePerfect, FreeStyle Libre, i-STAT and MitraClip.',\n",
       " 'Acadia Pharmaceuticals Inc. is a biopharmaceutical company headquartered in Sorrento Valley, San Diego, California.\\n\\n',\n",
       " 'Acorda Therapeutics, Inc. is an American biotechnology company based in Ardsley, New York. The company develops therapies that improve neurological function in people with Parkinson’s disease, multiple sclerosis and other neurological disorders. Acorda Therapeutics manufactures and markets the drugs Inbrija (levodopa inhalation powder) and Ampyra (dalfampridine) in the United States.\\n\\n',\n",
       " \"Actavis Generics (formerly known as Watson Pharmaceuticals and Actavis plc, prior to the acquisition of Irish-based Allergan Inc) is a global pharmaceutical company focused on acquiring, developing, manufacturing and marketing branded pharmaceuticals, generic and over-the-counter medicines, and biologic products. Actavis has a commercial presence across approximately 100 countries. The company has global headquarters in Dublin, Ireland and administrative headquarters in Parsippany-Troy Hills, New Jersey, United States.\\nActavis PLC markets brand products through six franchises in key therapeutic categories including: Aesthetics/Dermatology/Plastic Surgery; Neurosciences/CNS; Eye Care; Women's Health and Urology; GI and Cystic Fibrosis; and Cardiovascular Disease and Infectious Disease. The company's products include Botox, Namenda, Restasis, Linzess, Bystolic, Juvederm, Latisse, Lo Loestrin Fe, Estrace, Teflaro, Dalvance, Ozurdex, Optive, Natrelle, Viibryd, Liletta, Saphris, Enablex, Actonel, Androderm, Gelnique and others.\\nActavis PLC also operates the world's third-largest generics business. The company has been ranked in the top 3 in 12 global markets, the top 5 in 16 global markets, and in the top 10 in 33 global markets. Actavis also develops and out-licenses generic pharmaceutical products outside the US through its Medis third-party business, the world's largest generic pharmaceutical out-licensing business. Medis has more than 300 customers globally, and offers more than 200 products. Actavis PLC is also developing biosimilars products in oncology and other therapeutic categories, and currently has five biosimilar products in development. Actavis PLC has more than 40 manufacturing and distribution facilities around the world, with a capacity of approximately 40 billion units annually. Actavis Global Operations also included Anda Inc, the fourth-largest US generic pharmaceutical product distributor in the United States.On June 15, 2015, Actavis plc changed its name to Allergan plc, but the company's U.S. and Canadian generics business will continue to operate under the Actavis name.  In July 2015, Allergan PLC announced it would sell its Generics division of the company, including Anda Inc, to Teva Pharmaceuticals for $40.5 billion, a transaction proposed for completion by the first quarter of 2016.\",\n",
       " \"Actelion is a pharmaceuticals and biotechnology company established in December 1997, headquartered in Allschwil near Basel, Switzerland.Actelion focuses on the manufacture of drugs that treat rare diseases and orphan diseases. Some of the drugs it has produced have been used to treat patients with symptoms related to central nervous system disorders, irregular heart conditions, immune system disorders and cancer.  One of the focuses of Actelion is treating individuals with Pulmonary Arterial Hypertension (PAH), a heart condition that leaves patients with a short life expectancy (7-9 years) even with treatment.Actelion scientists were among the first to work in the field of endothelian receptor antagonists.  Actelion was initially financed with venture capital provided through a syndicate including Atlas Venture, Sofinnova and HealthCap.\\nActelion develops and sells drugs in the continents of Asia, Europe and North and South America. Actelion has 29 operative affiliates around the world, including the United States, Canada, Brazil, Australia, Japan, Switzerland and a number of EU countries.  The Swiss affiliate is located in Baden, the German affiliate in Freiburg, the Austrian one in Vienna, the French one in Paris and the UK affiliate is located in London.In 2006, the company established the Actelion Endothelin Research Award program which supports selected clinical research projects.In January 2017, Johnson & Johnson announced that it would purchase the company for $30 billion. Actelion's research and development unit would also be spun off after the acquisition. The new company Idorsia was created from former Actelion drug discovery operations and early-stage clinical development assets and listed in June 2017 on the SIX Swiss Exchange.In 2018, Johnson & Johnson announced they would discontinue development of one of the phase III drugs it acquired during its purchase of Actelion.\",\n",
       " 'Adcock Ingram is a South African pharmaceutical conglomerate listed on the Johannesburg Stock Exchange. Adcock Ingram manufactures and markets healthcare products to both the private and public sectors.  The company has self-described as \"the Glaxo of South Africa\".\\n\\n',\n",
       " \"Aderis Pharmaceuticals is a privately held pharmaceutical company based in Hopkinton, Massachusetts.  It was founded in 1994 to develop and commercialize pharmaceuticals. It is best known for the development of Rotigotine, a dopamine agonist made for the treatment of Parkinson's disease.\\n\\n\",\n",
       " 'Cubist Pharmaceuticals was an American biopharmaceutical company that targeted pathogens like MRSA.\\n.  The company employed 638 people, mostly in Lexington, MA. On 8 December 2014, Merck & Co. acquired Cubist for $102 per share in cash ($8.4 billion).\\n\\n',\n",
       " 'ACI or Advanced Chemical Industries (DSE : ACI) is one of the largest Bangladeshi conglomerates. The company operates through three reportable segments: Pharmaceuticals, Consumer Brands and Agribusiness. ACI established as the subsidiary of Imperial Chemical Industries (ICI) in 1968. It has been incorporated as ICI Bangladesh Manufacturers Limited on 24 January 1973. The company was renamed as Advanced Chemical Industries Limited (ACI Limited) on 5 May 1992. The company sold its insect control, air care and toilet care brands to SC Johnson & Son in 2015.\\n\\n',\n",
       " 'ADVANZ PHARMA Corp. is a multi-national pharmaceutical company headquartered in London. It changed its name from Concordia Healthcare Corp. in November 2018. The company focuses on a number of therapy areas including endocrinology, ophthalmology, urology, anti-infectives, pain management, central nervous system disorders, oncology, haematology, cardiology and intensive care medicine. The company also focuses on acquiring legacy pharmaceutical compounds which are usually off patent. ADVANZ PHARMA is a global pharmaceutical company with its operational headquarters in London, UK, operations centre in Mumbai, India and regional hubs in Europe, Australia and the US.\\n\\n',\n",
       " \"Advaxis Inc. is an American company devoted to the discovery, development and commercialization of immunotherapies based on a technology platform which uses engineered Listeria monocytogenes (aka Lm).  The company is headquartered in Princeton, New Jersey and was incorporated in Delaware in 2006.The Lm-based platform on which the company's products are based involves the use of attenuated Lm which secrete antigen/adjuvant fusion proteins and stimulate a patient's immune system (specifically their T cells) to mount an immune response to the secreted antigen; if the antigen is specifically found on cancerous cells, then the result aims to be an effective immune response targeting and eliminating the cancer.  Treatments developed using this paradigm are referred to as Lm-LLO immunotherapies.Today, the Company has over fifteen distinct constructs in various stages of development, directly developed by the Company and through strategic collaborations with recognized centers of excellence such as: the National Cancer Institute, Cancer Research – UK, the Wistar Institute, the University of Pennsylvania, and the Department of Homeland Security among others.\\nThe Company also has a veterinary medicine program that is evaluating an Lm-LLO based immunotherapy in a Phase 1 study in canine osteosarcoma. Source: www.advaxis.com\\n\\n\",\n",
       " 'Ajanta Pharma Limited (APL) is a multinational company based in India engaged in development, manufacturing, and marketing of pharmaceutical formulations. It has a presence in India, the United States, and about 30 other countries in Africa, Asia, Middle East, and CIS. It was established in 1973.\\n\\n',\n",
       " \"Alcon is an American- Swiss medical company specializing in eye care products with headquarters in Geneva, Switzerland, and incorporated in Fribourg, Switzerland. Alcon's American headquarters are located in Fort Worth, Texas. Alcon was a subsidiary of Novartis until April 9, 2019 when the company completed a shareholder approved 100% spinoff of Alcon eye care devices business from Novartis.\\n\\n\",\n",
       " 'Alembic Pharmaceuticals Ltd. is an Indian multinational pharmaceutical company headquartered in Vadodara city of Gujarat – India. Alembic Pharmaceuticals Ltd. is involved in manufacture of pharmaceutical products, pharmaceutical substances and intermediates. It is also termed to be a market leader in macrolides segment of anti-infective drugs in India.The company has its headquarters and Corporate Office situated in Vadodara, Gujarat – India while its manufacturing facilities are located at Panelav, Karakhadi in Gujarat and Sikkim, India. Its Panelav plant houses active pharmaceutical ingredients (APIs) and formulation manufacturing, while its Sikkim plant is involved in manufacture of formulations for Indian and non-regulated export markets.']"
      ]
     },
     "execution_count": 20,
     "metadata": {},
     "output_type": "execute_result"
    }
   ],
   "source": [
    "text"
   ]
  },
  {
   "cell_type": "code",
   "execution_count": 54,
   "metadata": {},
   "outputs": [],
   "source": [
    "for i in range(20):\n",
    "    text[i]=text[i].replace(\"\\n\",\"\")\n",
    "    text[i]=text[i].replace(\",\",\"\")\n",
    "    text[i]=text[i].replace(\".\",\"\")"
   ]
  },
  {
   "cell_type": "code",
   "execution_count": 55,
   "metadata": {},
   "outputs": [
    {
     "data": {
      "text/plain": [
       "['The 3M Company is an American multinational conglomerate corporation operating in the fields of industry worker safety US health care and consumer goods The company produces over 60000 products under several brands including adhesives abrasives laminates passive fire protection personal protective equipment window films paint protection films dental and orthodontic products electrical and electronic connecting and insulating materials medical products car-care products electronic circuits healthcare software and optical films It is based in Maplewood a suburb of Saint Paul Minnesota3M made $328 billion in total sales in 2018 and ranked number 95 in the Fortune 500 list of the largest United States corporations by total revenue As of 2018 the company had approximately 93500 employees and had operations in more than 70 countriesIn 2016 a complaint was filed against 3M for knowingly selling defective earplugs issued to military personnel deployed to Iraq and Afghanistan These earplugs may have caused permanent hearing damage 3M paid a $91 million settlement to the US government',\n",
       " 'AAH is a pharmaceutical wholesaler in the United Kingdom Originally formed in 1892 as a company selling solid fuels in South Wales it was floated on the stock exchange in 1923 It diversified into pharmaceuticals in the 1970s and since 1995 it has been a subsidiary of the German company Celesio AG',\n",
       " 'ACG is a pharmaceutical company with headquarters in Mumbai India The company has presence in over 100 countries  ACG provides empty hard pharmaceutical capsules encapsulation machinery tablet coating systems tablet compression systems fluid bed equipment tablet tooling and performance enhancers along with online and inline analytical and inspection systems The company also provides blister packing high barrier packaging films carton packing machines camera inspection systems candy-wrapping machines and end-of-line case packersACG has about 4500 employees and is one of the leading manufacturers of empty hard-shell capsules The ACG group offers manufacturing packaging research and development services for the pharmaceutical industry',\n",
       " 'ALK-Abelló A/S (Nasdaq Copenhagen: ALK B) also commonly known as ALK is a Denmark-based pharmaceutical company which specializes in the development and manufacture of allergy immunotherapy (AIT) products for the prevention and treatment of allergy It is one of the world’s largest makers of allergy immunotherapy products  (also known as ‘allergy vaccines’) with 81% of its revenue coming from sales in Europe',\n",
       " \"ARIAD Pharmaceuticals Inc was an American oncology company now part of Takeda Oncology which was founded in 1991 by Harvey J Berger MD and headquartered in Cambridge Massachusetts ARIAD engaged in the discovery development and commercialization of medicines for cancer patientsARIAD’s most prominent drug discoveries include Iclusig designed for patients with all forms of Philadelphia chromosome-positive [Ph+] chronic myeloid leukemia (CML) or Ph+ acute lymphoblastic leukemia (ALL) who are resistant to or unable to tolerate other tyrosine kinase inhibitors and brigatinib a lung cancer drug which has completed its registration trial in ALK fusion driven non-small cell lung cancer as of June 2016 and was approved in the US in April 2017In January 2017 Takeda announced it would acquire ARIAD for $52 billion expanding the company's oncology and hematology business On February 16 2017 Takeda Pharmaceuticals Ltd announced it had completed its acquisition of ARIAD and incorporated ARIAD into Takeda Oncology\",\n",
       " 'AbbVie is an American publicly traded biopharmaceutical company founded in 2013 It originated as a spin-off of Abbott Laboratories',\n",
       " 'Abbott Laboratories is an American multinational medical devices and health care company with headquarters in Abbott Park Illinois United States The company was founded by Chicago physician Wallace Calvin Abbott in 1888 to formulate known drugs; today it sells medical devices diagnostics branded generic medicines and nutritional products It split off its research-based pharmaceuticals business into AbbVie in 2013Among its well-known products across the medical devices diagnostics and nutrition product divisions are Pedialyte Similac Ensure Glucerna ZonePerfect FreeStyle Libre i-STAT and MitraClip',\n",
       " 'Acadia Pharmaceuticals Inc is a biopharmaceutical company headquartered in Sorrento Valley San Diego California',\n",
       " 'Acorda Therapeutics Inc is an American biotechnology company based in Ardsley New York The company develops therapies that improve neurological function in people with Parkinson’s disease multiple sclerosis and other neurological disorders Acorda Therapeutics manufactures and markets the drugs Inbrija (levodopa inhalation powder) and Ampyra (dalfampridine) in the United States',\n",
       " \"Actavis Generics (formerly known as Watson Pharmaceuticals and Actavis plc prior to the acquisition of Irish-based Allergan Inc) is a global pharmaceutical company focused on acquiring developing manufacturing and marketing branded pharmaceuticals generic and over-the-counter medicines and biologic products Actavis has a commercial presence across approximately 100 countries The company has global headquarters in Dublin Ireland and administrative headquarters in Parsippany-Troy Hills New Jersey United StatesActavis PLC markets brand products through six franchises in key therapeutic categories including: Aesthetics/Dermatology/Plastic Surgery; Neurosciences/CNS; Eye Care; Women's Health and Urology; GI and Cystic Fibrosis; and Cardiovascular Disease and Infectious Disease The company's products include Botox Namenda Restasis Linzess Bystolic Juvederm Latisse Lo Loestrin Fe Estrace Teflaro Dalvance Ozurdex Optive Natrelle Viibryd Liletta Saphris Enablex Actonel Androderm Gelnique and othersActavis PLC also operates the world's third-largest generics business The company has been ranked in the top 3 in 12 global markets the top 5 in 16 global markets and in the top 10 in 33 global markets Actavis also develops and out-licenses generic pharmaceutical products outside the US through its Medis third-party business the world's largest generic pharmaceutical out-licensing business Medis has more than 300 customers globally and offers more than 200 products Actavis PLC is also developing biosimilars products in oncology and other therapeutic categories and currently has five biosimilar products in development Actavis PLC has more than 40 manufacturing and distribution facilities around the world with a capacity of approximately 40 billion units annually Actavis Global Operations also included Anda Inc the fourth-largest US generic pharmaceutical product distributor in the United StatesOn June 15 2015 Actavis plc changed its name to Allergan plc but the company's US and Canadian generics business will continue to operate under the Actavis name  In July 2015 Allergan PLC announced it would sell its Generics division of the company including Anda Inc to Teva Pharmaceuticals for $405 billion a transaction proposed for completion by the first quarter of 2016\",\n",
       " \"Actelion is a pharmaceuticals and biotechnology company established in December 1997 headquartered in Allschwil near Basel SwitzerlandActelion focuses on the manufacture of drugs that treat rare diseases and orphan diseases Some of the drugs it has produced have been used to treat patients with symptoms related to central nervous system disorders irregular heart conditions immune system disorders and cancer  One of the focuses of Actelion is treating individuals with Pulmonary Arterial Hypertension (PAH) a heart condition that leaves patients with a short life expectancy (7-9 years) even with treatmentActelion scientists were among the first to work in the field of endothelian receptor antagonists  Actelion was initially financed with venture capital provided through a syndicate including Atlas Venture Sofinnova and HealthCapActelion develops and sells drugs in the continents of Asia Europe and North and South America Actelion has 29 operative affiliates around the world including the United States Canada Brazil Australia Japan Switzerland and a number of EU countries  The Swiss affiliate is located in Baden the German affiliate in Freiburg the Austrian one in Vienna the French one in Paris and the UK affiliate is located in LondonIn 2006 the company established the Actelion Endothelin Research Award program which supports selected clinical research projectsIn January 2017 Johnson & Johnson announced that it would purchase the company for $30 billion Actelion's research and development unit would also be spun off after the acquisition The new company Idorsia was created from former Actelion drug discovery operations and early-stage clinical development assets and listed in June 2017 on the SIX Swiss ExchangeIn 2018 Johnson & Johnson announced they would discontinue development of one of the phase III drugs it acquired during its purchase of Actelion\",\n",
       " 'Adcock Ingram is a South African pharmaceutical conglomerate listed on the Johannesburg Stock Exchange Adcock Ingram manufactures and markets healthcare products to both the private and public sectors  The company has self-described as \"the Glaxo of South Africa\"',\n",
       " \"Aderis Pharmaceuticals is a privately held pharmaceutical company based in Hopkinton Massachusetts  It was founded in 1994 to develop and commercialize pharmaceuticals It is best known for the development of Rotigotine a dopamine agonist made for the treatment of Parkinson's disease\",\n",
       " 'Cubist Pharmaceuticals was an American biopharmaceutical company that targeted pathogens like MRSA  The company employed 638 people mostly in Lexington MA On 8 December 2014 Merck & Co acquired Cubist for $102 per share in cash ($84 billion)',\n",
       " 'ACI or Advanced Chemical Industries (DSE : ACI) is one of the largest Bangladeshi conglomerates The company operates through three reportable segments: Pharmaceuticals Consumer Brands and Agribusiness ACI established as the subsidiary of Imperial Chemical Industries (ICI) in 1968 It has been incorporated as ICI Bangladesh Manufacturers Limited on 24 January 1973 The company was renamed as Advanced Chemical Industries Limited (ACI Limited) on 5 May 1992 The company sold its insect control air care and toilet care brands to SC Johnson & Son in 2015',\n",
       " 'ADVANZ PHARMA Corp is a multi-national pharmaceutical company headquartered in London It changed its name from Concordia Healthcare Corp in November 2018 The company focuses on a number of therapy areas including endocrinology ophthalmology urology anti-infectives pain management central nervous system disorders oncology haematology cardiology and intensive care medicine The company also focuses on acquiring legacy pharmaceutical compounds which are usually off patent ADVANZ PHARMA is a global pharmaceutical company with its operational headquarters in London UK operations centre in Mumbai India and regional hubs in Europe Australia and the US',\n",
       " \"Advaxis Inc is an American company devoted to the discovery development and commercialization of immunotherapies based on a technology platform which uses engineered Listeria monocytogenes (aka Lm)  The company is headquartered in Princeton New Jersey and was incorporated in Delaware in 2006The Lm-based platform on which the company's products are based involves the use of attenuated Lm which secrete antigen/adjuvant fusion proteins and stimulate a patient's immune system (specifically their T cells) to mount an immune response to the secreted antigen; if the antigen is specifically found on cancerous cells then the result aims to be an effective immune response targeting and eliminating the cancer  Treatments developed using this paradigm are referred to as Lm-LLO immunotherapiesToday the Company has over fifteen distinct constructs in various stages of development directly developed by the Company and through strategic collaborations with recognized centers of excellence such as: the National Cancer Institute Cancer Research – UK the Wistar Institute the University of Pennsylvania and the Department of Homeland Security among othersThe Company also has a veterinary medicine program that is evaluating an Lm-LLO based immunotherapy in a Phase 1 study in canine osteosarcoma Source: wwwadvaxiscom\",\n",
       " 'Ajanta Pharma Limited (APL) is a multinational company based in India engaged in development manufacturing and marketing of pharmaceutical formulations It has a presence in India the United States and about 30 other countries in Africa Asia Middle East and CIS It was established in 1973',\n",
       " \"Alcon is an American- Swiss medical company specializing in eye care products with headquarters in Geneva Switzerland and incorporated in Fribourg Switzerland Alcon's American headquarters are located in Fort Worth Texas Alcon was a subsidiary of Novartis until April 9 2019 when the company completed a shareholder approved 100% spinoff of Alcon eye care devices business from Novartis\",\n",
       " 'Alembic Pharmaceuticals Ltd is an Indian multinational pharmaceutical company headquartered in Vadodara city of Gujarat – India Alembic Pharmaceuticals Ltd is involved in manufacture of pharmaceutical products pharmaceutical substances and intermediates It is also termed to be a market leader in macrolides segment of anti-infective drugs in IndiaThe company has its headquarters and Corporate Office situated in Vadodara Gujarat – India while its manufacturing facilities are located at Panelav Karakhadi in Gujarat and Sikkim India Its Panelav plant houses active pharmaceutical ingredients (APIs) and formulation manufacturing while its Sikkim plant is involved in manufacture of formulations for Indian and non-regulated export markets']"
      ]
     },
     "execution_count": 55,
     "metadata": {},
     "output_type": "execute_result"
    }
   ],
   "source": [
    "text"
   ]
  },
  {
   "cell_type": "code",
   "execution_count": 56,
   "metadata": {},
   "outputs": [],
   "source": [
    "text_lengths=[]\n",
    "for i in range(20):\n",
    "    text_lengths.append(len(text[i]))"
   ]
  },
  {
   "cell_type": "code",
   "execution_count": 57,
   "metadata": {},
   "outputs": [
    {
     "data": {
      "text/plain": [
       "[1091,\n",
       " 297,\n",
       " 741,\n",
       " 409,\n",
       " 1013,\n",
       " 130,\n",
       " 603,\n",
       " 111,\n",
       " 379,\n",
       " 2285,\n",
       " 1881,\n",
       " 263,\n",
       " 283,\n",
       " 241,\n",
       " 552,\n",
       " 651,\n",
       " 1315,\n",
       " 287,\n",
       " 386,\n",
       " 740]"
      ]
     },
     "execution_count": 57,
     "metadata": {},
     "output_type": "execute_result"
    }
   ],
   "source": [
    "text_lengths"
   ]
  },
  {
   "cell_type": "code",
   "execution_count": 58,
   "metadata": {},
   "outputs": [],
   "source": [
    "import pandas as pd"
   ]
  },
  {
   "cell_type": "code",
   "execution_count": 59,
   "metadata": {},
   "outputs": [],
   "source": [
    "data=pd.DataFrame({'Text':text,'words':text_lengths})"
   ]
  },
  {
   "cell_type": "code",
   "execution_count": 60,
   "metadata": {},
   "outputs": [
    {
     "data": {
      "text/html": [
       "<div>\n",
       "<style scoped>\n",
       "    .dataframe tbody tr th:only-of-type {\n",
       "        vertical-align: middle;\n",
       "    }\n",
       "\n",
       "    .dataframe tbody tr th {\n",
       "        vertical-align: top;\n",
       "    }\n",
       "\n",
       "    .dataframe thead th {\n",
       "        text-align: right;\n",
       "    }\n",
       "</style>\n",
       "<table border=\"1\" class=\"dataframe\">\n",
       "  <thead>\n",
       "    <tr style=\"text-align: right;\">\n",
       "      <th></th>\n",
       "      <th>Text</th>\n",
       "      <th>words</th>\n",
       "    </tr>\n",
       "  </thead>\n",
       "  <tbody>\n",
       "    <tr>\n",
       "      <th>0</th>\n",
       "      <td>The 3M Company is an American multinational co...</td>\n",
       "      <td>1091</td>\n",
       "    </tr>\n",
       "    <tr>\n",
       "      <th>1</th>\n",
       "      <td>AAH is a pharmaceutical wholesaler in the Unit...</td>\n",
       "      <td>297</td>\n",
       "    </tr>\n",
       "    <tr>\n",
       "      <th>2</th>\n",
       "      <td>ACG is a pharmaceutical company with headquart...</td>\n",
       "      <td>741</td>\n",
       "    </tr>\n",
       "    <tr>\n",
       "      <th>3</th>\n",
       "      <td>ALK-Abelló A/S (Nasdaq Copenhagen: ALK B) also...</td>\n",
       "      <td>409</td>\n",
       "    </tr>\n",
       "    <tr>\n",
       "      <th>4</th>\n",
       "      <td>ARIAD Pharmaceuticals Inc was an American onco...</td>\n",
       "      <td>1013</td>\n",
       "    </tr>\n",
       "    <tr>\n",
       "      <th>5</th>\n",
       "      <td>AbbVie is an American publicly traded biopharm...</td>\n",
       "      <td>130</td>\n",
       "    </tr>\n",
       "    <tr>\n",
       "      <th>6</th>\n",
       "      <td>Abbott Laboratories is an American multination...</td>\n",
       "      <td>603</td>\n",
       "    </tr>\n",
       "    <tr>\n",
       "      <th>7</th>\n",
       "      <td>Acadia Pharmaceuticals Inc is a biopharmaceuti...</td>\n",
       "      <td>111</td>\n",
       "    </tr>\n",
       "    <tr>\n",
       "      <th>8</th>\n",
       "      <td>Acorda Therapeutics Inc is an American biotech...</td>\n",
       "      <td>379</td>\n",
       "    </tr>\n",
       "    <tr>\n",
       "      <th>9</th>\n",
       "      <td>Actavis Generics (formerly known as Watson Pha...</td>\n",
       "      <td>2285</td>\n",
       "    </tr>\n",
       "    <tr>\n",
       "      <th>10</th>\n",
       "      <td>Actelion is a pharmaceuticals and biotechnolog...</td>\n",
       "      <td>1881</td>\n",
       "    </tr>\n",
       "    <tr>\n",
       "      <th>11</th>\n",
       "      <td>Adcock Ingram is a South African pharmaceutica...</td>\n",
       "      <td>263</td>\n",
       "    </tr>\n",
       "    <tr>\n",
       "      <th>12</th>\n",
       "      <td>Aderis Pharmaceuticals is a privately held pha...</td>\n",
       "      <td>283</td>\n",
       "    </tr>\n",
       "    <tr>\n",
       "      <th>13</th>\n",
       "      <td>Cubist Pharmaceuticals was an American biophar...</td>\n",
       "      <td>241</td>\n",
       "    </tr>\n",
       "    <tr>\n",
       "      <th>14</th>\n",
       "      <td>ACI or Advanced Chemical Industries (DSE : ACI...</td>\n",
       "      <td>552</td>\n",
       "    </tr>\n",
       "    <tr>\n",
       "      <th>15</th>\n",
       "      <td>ADVANZ PHARMA Corp is a multi-national pharmac...</td>\n",
       "      <td>651</td>\n",
       "    </tr>\n",
       "    <tr>\n",
       "      <th>16</th>\n",
       "      <td>Advaxis Inc is an American company devoted to ...</td>\n",
       "      <td>1315</td>\n",
       "    </tr>\n",
       "    <tr>\n",
       "      <th>17</th>\n",
       "      <td>Ajanta Pharma Limited (APL) is a multinational...</td>\n",
       "      <td>287</td>\n",
       "    </tr>\n",
       "    <tr>\n",
       "      <th>18</th>\n",
       "      <td>Alcon is an American- Swiss medical company sp...</td>\n",
       "      <td>386</td>\n",
       "    </tr>\n",
       "    <tr>\n",
       "      <th>19</th>\n",
       "      <td>Alembic Pharmaceuticals Ltd is an Indian multi...</td>\n",
       "      <td>740</td>\n",
       "    </tr>\n",
       "  </tbody>\n",
       "</table>\n",
       "</div>"
      ],
      "text/plain": [
       "                                                 Text  words\n",
       "0   The 3M Company is an American multinational co...   1091\n",
       "1   AAH is a pharmaceutical wholesaler in the Unit...    297\n",
       "2   ACG is a pharmaceutical company with headquart...    741\n",
       "3   ALK-Abelló A/S (Nasdaq Copenhagen: ALK B) also...    409\n",
       "4   ARIAD Pharmaceuticals Inc was an American onco...   1013\n",
       "5   AbbVie is an American publicly traded biopharm...    130\n",
       "6   Abbott Laboratories is an American multination...    603\n",
       "7   Acadia Pharmaceuticals Inc is a biopharmaceuti...    111\n",
       "8   Acorda Therapeutics Inc is an American biotech...    379\n",
       "9   Actavis Generics (formerly known as Watson Pha...   2285\n",
       "10  Actelion is a pharmaceuticals and biotechnolog...   1881\n",
       "11  Adcock Ingram is a South African pharmaceutica...    263\n",
       "12  Aderis Pharmaceuticals is a privately held pha...    283\n",
       "13  Cubist Pharmaceuticals was an American biophar...    241\n",
       "14  ACI or Advanced Chemical Industries (DSE : ACI...    552\n",
       "15  ADVANZ PHARMA Corp is a multi-national pharmac...    651\n",
       "16  Advaxis Inc is an American company devoted to ...   1315\n",
       "17  Ajanta Pharma Limited (APL) is a multinational...    287\n",
       "18  Alcon is an American- Swiss medical company sp...    386\n",
       "19  Alembic Pharmaceuticals Ltd is an Indian multi...    740"
      ]
     },
     "execution_count": 60,
     "metadata": {},
     "output_type": "execute_result"
    }
   ],
   "source": [
    "data"
   ]
  },
  {
   "cell_type": "code",
   "execution_count": 61,
   "metadata": {},
   "outputs": [],
   "source": [
    "data.to_csv(r'D:\\internship\\datav1.csv')"
   ]
  },
  {
   "cell_type": "code",
   "execution_count": 40,
   "metadata": {},
   "outputs": [
    {
     "name": "stderr",
     "output_type": "stream",
     "text": [
      "[nltk_data] Downloading package stopwords to\n",
      "[nltk_data]     C:\\Users\\jasro\\AppData\\Roaming\\nltk_data...\n",
      "[nltk_data]   Unzipping corpora\\stopwords.zip.\n"
     ]
    }
   ],
   "source": [
    "import nltk\n",
    "nltk.download('stopwords')\n",
    "en_stop = set(nltk.corpus.stopwords.words('english'))"
   ]
  },
  {
   "cell_type": "code",
   "execution_count": 50,
   "metadata": {},
   "outputs": [],
   "source": [
    "from nltk.tokenize import word_tokenize \n",
    "#nltk.download('punkt')"
   ]
  },
  {
   "cell_type": "code",
   "execution_count": 62,
   "metadata": {},
   "outputs": [],
   "source": [
    "word_tokens = word_tokenize(text[0])"
   ]
  },
  {
   "cell_type": "code",
   "execution_count": 64,
   "metadata": {},
   "outputs": [],
   "source": [
    "text_tokens=[]\n",
    "for i in range(20):\n",
    "    text_tokens.append(word_tokenize(text[i]))"
   ]
  },
  {
   "cell_type": "code",
   "execution_count": 69,
   "metadata": {},
   "outputs": [],
   "source": [
    "text_without_stopwords=[]\n",
    "for i in range(20):\n",
    "    line=[]\n",
    "    for word in text_tokens[i]:\n",
    "        if word not in en_stop:\n",
    "           line.append(word)\n",
    "    text_without_stopwords.append(line)"
   ]
  },
  {
   "cell_type": "code",
   "execution_count": 73,
   "metadata": {},
   "outputs": [
    {
     "data": {
      "text/plain": [
       "20"
      ]
     },
     "execution_count": 73,
     "metadata": {},
     "output_type": "execute_result"
    }
   ],
   "source": [
    "len(text_without_stopwords)"
   ]
  },
  {
   "cell_type": "code",
   "execution_count": 75,
   "metadata": {},
   "outputs": [],
   "source": [
    "length_of_text_without_words=[]\n",
    "for i in range(len(text_without_stopwords)):\n",
    "    length_of_text_without_words.append(len(text_without_stopwords[i]))"
   ]
  },
  {
   "cell_type": "code",
   "execution_count": 77,
   "metadata": {},
   "outputs": [
    {
     "data": {
      "text/plain": [
       "[121,\n",
       " 29,\n",
       " 78,\n",
       " 51,\n",
       " 110,\n",
       " 13,\n",
       " 63,\n",
       " 11,\n",
       " 42,\n",
       " 251,\n",
       " 196,\n",
       " 27,\n",
       " 27,\n",
       " 36,\n",
       " 72,\n",
       " 67,\n",
       " 128,\n",
       " 31,\n",
       " 42,\n",
       " 71]"
      ]
     },
     "execution_count": 77,
     "metadata": {},
     "output_type": "execute_result"
    }
   ],
   "source": [
    "length_of_text_without_words"
   ]
  },
  {
   "cell_type": "code",
   "execution_count": 78,
   "metadata": {},
   "outputs": [],
   "source": [
    "filtered_data=pd.DataFrame({'text without stop words':text_without_stopwords,\n",
    "'words':length_of_text_without_words})"
   ]
  },
  {
   "cell_type": "code",
   "execution_count": 80,
   "metadata": {},
   "outputs": [],
   "source": [
    "filtered_data.to_csv(r'D:\\internship\\datav2.csv')"
   ]
  },
  {
   "cell_type": "code",
   "execution_count": 82,
   "metadata": {},
   "outputs": [],
   "source": [
    "from gensim.models.fasttext import FastText"
   ]
  },
  {
   "cell_type": "code",
   "execution_count": 84,
   "metadata": {},
   "outputs": [
    {
     "name": "stdout",
     "output_type": "stream",
     "text": [
      "Wall time: 0 ns\n"
     ]
    }
   ],
   "source": [
    "embedding_size = 20\n",
    "window_size = 5\n",
    "min_word = 2\n",
    "down_sampling = 1e-2\n",
    " \n",
    "%time\n",
    "fast_Text_model = FastText(text_without_stopwords,\n",
    "                      size=embedding_size,\n",
    "                      window=window_size,\n",
    "                      min_count=min_word,\n",
    "                      sample=down_sampling,\n",
    "                      workers = 4,\n",
    "                      sg=1,\n",
    "                      iter=30)"
   ]
  },
  {
   "cell_type": "code",
   "execution_count": 86,
   "metadata": {},
   "outputs": [
    {
     "data": {
      "text/plain": [
       "[('healthcare', 0.9953323006629944),\n",
       " ('Abbott', 0.9838723540306091),\n",
       " ('AbbVie', 0.9823333621025085),\n",
       " ('100', 0.9797958135604858),\n",
       " ('New', 0.9770828485488892),\n",
       " ('Switzerland', 0.9770498275756836),\n",
       " ('branded', 0.9761024117469788),\n",
       " ('across', 0.9723584651947021),\n",
       " ('Jersey', 0.9686340093612671),\n",
       " ('eye', 0.9661616086959839)]"
      ]
     },
     "execution_count": 86,
     "metadata": {},
     "output_type": "execute_result"
    }
   ],
   "source": [
    "fast_Text_model.wv.most_similar('health', topn=10)"
   ]
  },
  {
   "cell_type": "code",
   "execution_count": null,
   "metadata": {},
   "outputs": [],
   "source": []
  }
 ],
 "metadata": {
  "kernelspec": {
   "display_name": "god_of_tensors",
   "language": "python",
   "name": "god_of_tensors"
  },
  "language_info": {
   "codemirror_mode": {
    "name": "ipython",
    "version": 3
   },
   "file_extension": ".py",
   "mimetype": "text/x-python",
   "name": "python",
   "nbconvert_exporter": "python",
   "pygments_lexer": "ipython3",
   "version": "3.7.1"
  }
 },
 "nbformat": 4,
 "nbformat_minor": 4
}
